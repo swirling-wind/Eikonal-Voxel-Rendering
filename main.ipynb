{
 "cells": [
  {
   "cell_type": "code",
   "execution_count": null,
   "metadata": {},
   "outputs": [],
   "source": [
    "import taichi as ti\n",
    "from setup.voxel_setup import setup_voxel_scene\n",
    "from simulator.simulate import *\n",
    "from common.plot import *\n",
    "\n",
    "# debug=True to check boundary access\n",
    "ti.init(arch=ti.gpu)\n",
    "\n",
    "import numpy as np\n",
    "import matplotlib\n",
    "from scipy import ndimage\n",
    "\n",
    "%load_ext autoreload\n",
    "%autoreload 2\n",
    "\n",
    "matplotlib.use('Qt5Agg')\n",
    "%matplotlib widget"
   ]
  },
  {
   "cell_type": "markdown",
   "metadata": {},
   "source": [
    "## 1. Load voxel model"
   ]
  },
  {
   "cell_type": "code",
   "execution_count": null,
   "metadata": {},
   "outputs": [],
   "source": [
    "NUM_X, NUM_Y, NUM_Z = 128, 128, 128\n",
    "scene, floor_height = setup_voxel_scene(NUM_X, NUM_Y, NUM_Z)"
   ]
  },
  {
   "cell_type": "code",
   "execution_count": null,
   "metadata": {},
   "outputs": [],
   "source": [
    "# scene.finish()"
   ]
  },
  {
   "cell_type": "markdown",
   "metadata": {},
   "source": [
    "## 2. Light simulation"
   ]
  },
  {
   "cell_type": "code",
   "execution_count": null,
   "metadata": {},
   "outputs": [],
   "source": [
    "scene_ior = scene.get_ior_grid().to_numpy()\n",
    "assert isinstance(scene_ior, np.ndarray) and scene_ior.shape == (NUM_X, NUM_Y, NUM_Z), \"The scene IOR should be a NumPy array of shape (NUM_X, NUM_Y, NUM_Z)\"\n",
    "\n",
    "sampler_multiplier = 3\n",
    "pos_perturbation_scale = 0.45\n",
    "initial_wavefront_pos, initial_wavefront_dir = generate_initial_wavefront(sampler_multiplier, pos_perturbation_scale, NUM_X, NUM_Y, NUM_Z)\n",
    "# plot_ior_field(scene_ior, initial_wavefront_pos, initial_wavefront_dir, sampler_multiplier, floor_height)\n",
    "plot_wavefront_position(initial_wavefront_pos, initial_wavefront_dir, ior_field=scene_ior, title=\"Initial Wavefront Positions\", sampler_multiplier=sampler_multiplier, floor_height=floor_height)\n",
    "smoothed_ior = ndimage.gaussian_filter(scene_ior, sigma=3.0, radius=1)\n",
    "ior_gradients = compute_ior_gradient(smoothed_ior)\n",
    "\n",
    "# Test the setter and getter for the gradient field\n",
    "scene.set_grad_field(ior_gradients)\n",
    "test_grad = scene.get_grad_field()\n",
    "plot_gradient(test_grad, floor_height, threshold=0.01, alpha=0.01)"
   ]
  },
  {
   "cell_type": "code",
   "execution_count": null,
   "metadata": {},
   "outputs": [],
   "source": [
    "test_delta_t = 0.3 * (NUM_Y / 100)\n",
    "test_num_steps = int(1.1 * (NUM_Y / test_delta_t))\n",
    "irradiance_grid, local_directions = simulate_wavefront_propagation(scene_ior, ior_gradients, initial_wavefront_pos, initial_wavefront_dir, device, sampler_multiplier, floor_height, test_num_steps, test_delta_t)"
   ]
  },
  {
   "cell_type": "markdown",
   "metadata": {},
   "source": [
    "## 3. Compute irradiance"
   ]
  },
  {
   "cell_type": "code",
   "execution_count": null,
   "metadata": {},
   "outputs": [],
   "source": [
    "plot_irradiance_grid(irradiance_grid, floor_height, threshold=5*sampler_multiplier**3)\n",
    "above_floor_irradiance_grid = remove_under_floor(irradiance_grid, floor_height=floor_height)\n",
    "plot_irradiance_slices(above_floor_irradiance_grid, threshold=3, num_slices=8, z_start=30, z_end=120)"
   ]
  },
  {
   "cell_type": "code",
   "execution_count": null,
   "metadata": {},
   "outputs": [],
   "source": [
    "# Apply Gaussian filter to smooth the radiometric grid\n",
    "filtered_above_floor_irradiance_grid = above_floor_irradiance_grid.copy()\n",
    "filtered_above_floor_irradiance_grid = ndimage.gaussian_filter(filtered_above_floor_irradiance_grid, sigma=0.5) \n",
    "plot_irradiance_slices(filtered_above_floor_irradiance_grid, threshold=3, num_slices=8, z_start=30, z_end=120)"
   ]
  },
  {
   "cell_type": "markdown",
   "metadata": {},
   "source": [
    "## 6. Neural network irradiance （MLP）"
   ]
  },
  {
   "cell_type": "code",
   "execution_count": null,
   "metadata": {},
   "outputs": [],
   "source": [
    "# SEED = 42\n",
    "# import torch.nn as nn\n",
    "# class IrradianceNet(nn.Module):\n",
    "#     def __init__(self):\n",
    "#         super(IrradianceNet, self).__init__()\n",
    "#         self.model = nn.Sequential(\n",
    "#             nn.Linear(3, 512),\n",
    "#             nn.ReLU(),\n",
    "#             nn.Linear(512, 1024),\n",
    "#             nn.ReLU(),\n",
    "#             nn.Linear(1024, 512),\n",
    "#             nn.ReLU(),\n",
    "#             nn.Linear(512, 1)\n",
    "#         )\n",
    "#         for m in self.modules():\n",
    "#             if isinstance(m, nn.Linear):\n",
    "#                 nn.init.xavier_uniform_(m.weight)\n",
    "\n",
    "#     def forward(self, x):\n",
    "#         return self.model(x).squeeze()\n",
    "\n",
    "# def prepare_data(irradiance: torch.Tensor, train_ratio=0.90) -> tuple[torch.Tensor, torch.Tensor, torch.Tensor, torch.Tensor]:\n",
    "#     x = np.arange(irradiance.shape[0])\n",
    "#     y = np.arange(irradiance.shape[1]) \n",
    "#     z = np.arange(irradiance.shape[2])\n",
    "#     X, Y, Z = np.meshgrid(x, y, z)\n",
    "#     inputs = np.stack((X, Y, Z), axis=-1).reshape(-1, 3)\n",
    "#     targets = irradiance.flatten()\n",
    "\n",
    "#     inputs = torch.from_numpy(inputs).float().to(device)\n",
    "#     targets = targets.clone().detach().to(device)\n",
    "\n",
    "#     # Random shuffle\n",
    "#     # torch.manual_seed(SEED)\n",
    "#     indices = torch.randperm(len(inputs))\n",
    "#     inputs = inputs[indices]\n",
    "#     targets = targets[indices]\n",
    "\n",
    "#     # Split into training and validation sets\n",
    "#     train_size = int(train_ratio * len(inputs))\n",
    "#     train_inputs, val_inputs = inputs[:train_size], inputs[train_size:]\n",
    "#     train_targets, val_targets = targets[:train_size], targets[train_size:]\n",
    "\n",
    "#     return train_inputs, val_inputs, train_targets, val_targets\n",
    "\n",
    "# def train_model(model: IrradianceNet, train_inputs: torch.Tensor, val_inputs: torch.Tensor, train_targets: torch.Tensor, val_targets: torch.Tensor, \n",
    "#                 num_epochs=320, batch_size=1024, patience=60):\n",
    "#     torch.cuda.empty_cache()\n",
    "    \n",
    "#     criterion = nn.MSELoss()\n",
    "#     optimizer = torch.optim.Adam(model.parameters(), lr=0.002)\n",
    "\n",
    "#     best_val_loss = float('inf')\n",
    "#     epochs_no_improve = 0\n",
    "#     best_model = None\n",
    "\n",
    "#     for epoch in range(num_epochs):\n",
    "#         model.train()\n",
    "#         for i in range(0, len(train_inputs), batch_size):\n",
    "#             batch_inputs = train_inputs[i:i+batch_size]\n",
    "#             batch_targets = train_targets[i:i+batch_size]\n",
    "            \n",
    "#             outputs = model(batch_inputs)\n",
    "#             loss = criterion(outputs, batch_targets)\n",
    "            \n",
    "#             optimizer.zero_grad()\n",
    "#             loss.backward()\n",
    "#             optimizer.step()\n",
    "        \n",
    "#         model.eval()\n",
    "#         with torch.no_grad():\n",
    "#             val_outputs = model(val_inputs)\n",
    "#             val_loss = criterion(val_outputs, val_targets)\n",
    "        \n",
    "#         if val_loss < best_val_loss * 0.95: # at least 5% improvement\n",
    "#             best_val_loss = val_loss\n",
    "#             epochs_no_improve = 0\n",
    "#             best_model = model.state_dict()\n",
    "#             print(f\"Current best model is at epoch {epoch + 1} and val loss: {val_loss.item():.4f}\")\n",
    "#         else:\n",
    "#             epochs_no_improve += 1\n",
    "        \n",
    "#         if epochs_no_improve == patience:\n",
    "#             print(f'Early stopping triggered at epoch {epoch + 1}')\n",
    "#             break\n",
    "        \n",
    "#         if (epoch + 1) % 40 == 0:\n",
    "#             print(f'Epoch [{epoch+1}/{num_epochs}], Train Loss: {loss.item():.4f}, Val Loss: {val_loss.item():.4f}')\n",
    "\n",
    "#     assert best_model is not None\n",
    "#     model.load_state_dict(best_model)\n",
    "#     torch.cuda.empty_cache()\n",
    "#     return model\n",
    "\n",
    "# def generate_irradiance_field_3d(model: IrradianceNet, size=100) -> torch.Tensor:\n",
    "#     x = np.arange(size)\n",
    "#     y = np.arange(size)\n",
    "#     z = np.arange(size)\n",
    "#     X, Y, Z = np.meshgrid(x, y, z)\n",
    "#     coords = np.stack((X, Y, Z), axis=-1).reshape(-1, 3)    \n",
    "#     with torch.no_grad():\n",
    "#         inputs = torch.tensor(coords, dtype=torch.float32, device=device)\n",
    "#         predictions = model(inputs)\n",
    "    \n",
    "#     return predictions.reshape(size, size, size)\n",
    "\n",
    "# # Prepare the data and train the MLP model\n",
    "# train_inputs, val_inputs, train_targets, val_targets = prepare_data(irradiance_grid)\n",
    "# model = IrradianceNet().to(device)  \n",
    "# model = train_model(model, train_inputs, val_inputs, train_targets, val_targets)\n",
    "\n",
    "# # Visualize the predicted irradiance field\n",
    "# predicted_irradiance = generate_irradiance_field_3d(model)\n",
    "# show_radiometric_grid_3d(predicted_irradiance, threshold=0.2, only_above_floor=True)"
   ]
  },
  {
   "cell_type": "markdown",
   "metadata": {},
   "source": [
    "## 7. Octree"
   ]
  },
  {
   "cell_type": "code",
   "execution_count": null,
   "metadata": {},
   "outputs": [],
   "source": [
    "from common.octree import Octree\n",
    "\n",
    "octree = Octree(threshold=2 * (sampler_multiplier**3))\n",
    "octree.construct(filtered_above_floor_irradiance_grid)\n",
    "print(f\"Number of nodes: {len(octree)}\")\n",
    "print(f\"Octree Memory usage: {octree.__sizeof__()} bytes\")\n",
    "print(f\"In comparison, NumPy Storage Usage: {filtered_above_floor_irradiance_grid.nbytes} bytes\")\n",
    "octree.visualize()"
   ]
  },
  {
   "cell_type": "code",
   "execution_count": null,
   "metadata": {},
   "outputs": [],
   "source": [
    "x, y, z = 60, 60, 60\n",
    "value = octree.query(x, y, z)\n",
    "value"
   ]
  },
  {
   "cell_type": "markdown",
   "metadata": {},
   "source": [
    "## Temp Tests"
   ]
  },
  {
   "cell_type": "code",
   "execution_count": null,
   "metadata": {},
   "outputs": [],
   "source": [
    "# x = ti.field(float, shape=(3, 3))\n",
    "# a = np.arange(9).reshape(3, 3).astype(np.int32)\n",
    "# x.from_numpy(a)\n",
    "# print(x)\n",
    "# type(x)\n",
    "# arr = x.to_numpy()\n",
    "# print(arr)\n",
    "# type(arr)\n",
    "# field = ti.Vector.field(3, int, shape=(256, 512))\n",
    "# field.shape  # (256, 512)\n",
    "# field.n      # 3\n",
    "\n",
    "# array = field.to_numpy()\n",
    "# array.shape  # (256, 512, 3)\n",
    "# print(type(array))\n",
    "\n",
    "# field.from_numpy(array)  # the input array must in the shape (256, 512, 3)\n",
    "# print(type(field))"
   ]
  },
  {
   "cell_type": "code",
   "execution_count": null,
   "metadata": {},
   "outputs": [],
   "source": [
    "@ti.data_oriented\n",
    "class TiArray:\n",
    "    def __init__(self, n):\n",
    "        self.x = ti.field(dtype=ti.i32, shape=n)\n",
    "\n",
    "    @ti.kernel\n",
    "    def inc(self):\n",
    "          \n",
    "        for i in self.x:\n",
    "            self.x[i] += 1\n",
    "\n",
    "a = TiArray(32)\n",
    "a.inc()\n",
    "print(a.x.to_numpy())\n",
    "print(a.x.dtype)"
   ]
  },
  {
   "cell_type": "markdown",
   "metadata": {},
   "source": [
    "## *. Render"
   ]
  }
 ],
 "metadata": {
  "kernelspec": {
   "display_name": "cg",
   "language": "python",
   "name": "python3"
  },
  "language_info": {
   "codemirror_mode": {
    "name": "ipython",
    "version": 3
   },
   "file_extension": ".py",
   "mimetype": "text/x-python",
   "name": "python",
   "nbconvert_exporter": "python",
   "pygments_lexer": "ipython3",
   "version": "3.11.9"
  }
 },
 "nbformat": 4,
 "nbformat_minor": 2
}
