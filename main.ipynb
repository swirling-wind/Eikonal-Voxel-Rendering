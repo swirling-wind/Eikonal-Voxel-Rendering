{
 "cells": [
  {
   "cell_type": "code",
   "execution_count": 1,
   "metadata": {},
   "outputs": [
    {
     "name": "stdout",
     "output_type": "stream",
     "text": [
      "[Taichi] version 1.7.1, llvm 15.0.1, commit 0f143b2f, win, python 3.11.9\n"
     ]
    }
   ],
   "source": [
    "from scene import Scene\n",
    "import taichi as ti\n",
    "from taichi.math import *\n",
    "import numpy as np\n",
    "import matplotlib\n",
    "import matplotlib.pyplot as plt\n",
    "from matplotlib.colors import Normalize\n",
    "from matplotlib.cm import ScalarMappable\n",
    "\n",
    "%load_ext autoreload\n",
    "%autoreload 2\n",
    "\n",
    "matplotlib.use('Qt5Agg')\n",
    "%matplotlib widget"
   ]
  },
  {
   "cell_type": "code",
   "execution_count": null,
   "metadata": {},
   "outputs": [],
   "source": [
    "@ti.func\n",
    "def add_pokeball(r, pad, origin, color, mat):\n",
    "    for i, j, k in ti.ndrange((-r-pad, r+pad), (-r-pad, r+pad), (-r-pad, r+pad)):\n",
    "        xyz = ivec3(i, j, k)\n",
    "        if xyz.dot(xyz) < r**2: \n",
    "            scene.set_voxel(vec3(i, j, k) + origin, mat, color, ior=1.5)\n",
    "\n",
    "@ti.func\n",
    "def origin_y(largest, r):\n",
    "    return -(largest-r)-1\n",
    "\n",
    "# MAT_LAMBERTIAN = 1\n",
    "# MAT_LIGHT = 2\n",
    "@ti.kernel\n",
    "def initialize_voxels():\n",
    "    add_pokeball(largest_r, 1, vec3(-18, origin_y(largest_r, largest_r), 0), RED, 1)\n",
    "    add_pokeball(medium_r, 1, vec3(2, origin_y(largest_r, medium_r), 24), BLUE, 1)\n",
    "    add_pokeball(small_r, 1, vec3(17, origin_y(largest_r, small_r), -2), WHITE, 1)\n",
    "    \n",
    "def floor_h(largest):\n",
    "    return -1 / 64 * (largest + 1)  #  +1 to make balls float a bit above the floor\n",
    "\n",
    "largest_r = 18\n",
    "medium_r = 12\n",
    "small_r = 6\n",
    "floor_height = floor_h(largest_r)\n",
    "BLACK, WHITE, YELLOW, PINK = vec3(0, 0, 0), vec3(1, 1, 1), vec3(1,1,0), vec3(1,0.5,0.8)\n",
    "RED, BLUE, PURPLE = vec3(0.9, 0, 0.1), vec3(0, 0.5, 1), vec3(0.2, 0.2, 0.6)\n",
    "\n",
    "scene = Scene(exposure=1)\n",
    "scene.set_directional_light((0, 1, 0), 0.2, (1, 1, 1))\n",
    "scene.set_background_color((1, 1, 1))\n",
    "scene.set_floor(height=floor_height, color=(1, 1, 1))\n",
    "initialize_voxels()\n",
    "scene.finish()"
   ]
  },
  {
   "cell_type": "code",
   "execution_count": null,
   "metadata": {},
   "outputs": [],
   "source": [
    "testor = scene.get_ior_grid()\n",
    "num_x, num_y, num_z = testor.shape\n",
    "\n",
    "def show_ior_field(ior_field, initial_wavefront_positions, initial_wavefront_directions):    \n",
    "    # clear previous plot\n",
    "    plt.close()\n",
    "\n",
    "    fig = plt.figure(figsize=(7, 7))\n",
    "    ax = fig.add_subplot(111, projection='3d')\n",
    "    ax.set_box_aspect([1,1,1])\n",
    "    ax.set_xlim(0, num_x)\n",
    "    ax.set_ylim(0, num_y)\n",
    "    ax.set_zlim(0, num_z)\n",
    "    # initial_pos_np = initial_wavefront_positions.cpu().numpy()\n",
    "    # initial_dir_np = initial_wavefront_directions.cpu().numpy()\n",
    "\n",
    "    # subsample_indices = np.arange(0, initial_wavefront_positions.shape[0], 3000)  # Subsampling data points\n",
    "    # ax.quiver(initial_pos_np[subsample_indices, 0], initial_pos_np[subsample_indices, 1], initial_pos_np[subsample_indices, 2],\n",
    "    #             initial_dir_np[subsample_indices, 0], initial_dir_np[subsample_indices, 1], initial_dir_np[subsample_indices, 2], color='g')\n",
    "    \n",
    "\n",
    "    # Regular sampling for the sphere\n",
    "    x_points_sphere, y_points_sphere, z_points_sphere = np.where(ior_field == 1.5)\n",
    "    subsample_step_sphere = max(1, len(x_points_sphere) // 3000)  # Adjust the number to control the number of points\n",
    "    subsample_indices_sphere = np.arange(0, len(x_points_sphere), subsample_step_sphere)\n",
    "    ax.scatter(x_points_sphere[subsample_indices_sphere], y_points_sphere[subsample_indices_sphere], z_points_sphere[subsample_indices_sphere], color='blue', alpha=0.06)\n",
    "    \n",
    "    # Regular sampling for the walls\n",
    "    # x_points_wall, y_points_wall, z_points_wall = np.where(ior_field == materials['wall']['ior'])\n",
    "    # subsample_step_wall = max(1, len(x_points_wall) // 5000)  # Adjust the number to control the number of points\n",
    "    # subsample_indices_wall = np.arange(0, len(x_points_wall), subsample_step_wall)\n",
    "    # ax.scatter(x_points_wall[subsample_indices_wall], y_points_wall[subsample_indices_wall], z_points_wall[subsample_indices_wall], color='red', alpha=0.1)\n",
    "\n",
    "    ax.set_title(\"Glass Sphere (blue color) inside a room with walls (red color) with a point light source at the top left corner of the room (green arrows)\")\n",
    "    ax.set_xlabel('X Axis')\n",
    "    ax.set_ylabel('Y Axis')\n",
    "    ax.set_zlabel('Z Axis')\n",
    "    ax.view_init(elev=90, azim=-90)\n",
    "\n",
    "    xx, zz = np.meshgrid(np.arange(num_x), np.arange(num_z))\n",
    "    yy = np.ones_like(xx) * (-floor_height) * num_y\n",
    "    ax.plot_surface(xx, yy, zz, alpha=0.5)\n",
    "    plt.show()\n",
    "\n",
    "show_ior_field(testor, [], [])"
   ]
  },
  {
   "cell_type": "code",
   "execution_count": 5,
   "metadata": {},
   "outputs": [
    {
     "name": "stdout",
     "output_type": "stream",
     "text": [
      "Generated voxel grid of shape: ()\n"
     ]
    }
   ],
   "source": [
    "@ti.func\n",
    "def sd_bunny(p: vec3) -> float: # from https://www.shadertoy.com/view/wtVyWK\n",
    "    # sdf is undefined outside the unit sphere, uncomment to witness the abominations\n",
    "    sd = 0.0\n",
    "    if length(p) > 1.0:\n",
    "        sd =  length(p) - 0.8\n",
    "    else:\n",
    "        # neural networks can be really compact... when they want to be\n",
    "        f00=sin(p.y*vec4(-3.02,1.95,-3.42,-.60)+p.z*vec4(3.08,.85,-2.25,-.24)-p.x*vec4(-.29,1.16,-3.74,2.89)+vec4(-.71,4.50,-3.24,-3.50))\n",
    "        f01=sin(p.y*vec4(-.40,-3.61,3.23,-.14)+p.z*vec4(-.36,3.64,-3.91,2.66)-p.x*vec4(2.90,-.54,-2.75,2.71)+vec4(7.02,-5.41,-1.12,-7.41))\n",
    "        f02=sin(p.y*vec4(-1.77,-1.28,-4.29,-3.20)+p.z*vec4(-3.49,-2.81,-.64,2.79)-p.x*vec4(3.15,2.14,-3.85,1.83)+vec4(-2.07,4.49,5.33,-2.17))\n",
    "        f03=sin(p.y*vec4(-.49,.68,3.05,.42)+p.z*vec4(-2.87,.78,3.78,-3.41)-p.x*vec4(-2.65,.33,.07,-.64)+vec4(-3.24,-5.90,1.14,-4.71))\n",
    "        f10=sin(f00@mat4(-.34,.06,-.59,-.76,.10,-.19,-.12,.44,.64,-.02,-.26,.15,-.16,.21,.91,.15)+\n",
    "            f01@mat4(.01,.54,-.77,.11,.06,-.14,.43,.51,-.18,.08,.39,.20,.33,-.49,-.10,.19)+\n",
    "            f02@mat4(.27,.22,.43,.53,.18,-.17,.23,-.64,-.14,.02,-.10,.16,-.13,-.06,-.04,-.36)+\n",
    "            f03@mat4(-.13,.29,-.29,.08,1.13,.02,-.83,.32,-.32,.04,-.31,-.16,.14,-.03,-.20,.39)+\n",
    "            vec4(.73,-4.28,-1.56,-1.80))+f00\n",
    "        f11=sin(f00@mat4(-1.11,.55,-.12,-1.00,.16,.15,-.30,.31,-.01,.01,.31,-.42,-.29,.38,-.04,.71)+\n",
    "            f01@mat4(.96,-.02,.86,.52,-.14,.60,.44,.43,.02,-.15,-.49,-.05,-.06,-.25,-.03,-.22)+\n",
    "            f02@mat4(.52,.44,-.05,-.11,-.56,-.10,-.61,-.40,-.04,.55,.32,-.07,-.02,.28,.26,-.49)+\n",
    "            f03@mat4(.02,-.32,.06,-.17,-.59,.00,-.24,.60,-.06,.13,-.21,-.27,-.12,-.14,.58,-.55)+\n",
    "            vec4(-2.24,-3.48,-.80,1.41))+f01\n",
    "        f12=sin(f00@mat4(.44,-.06,-.79,-.46,.05,-.60,.30,.36,.35,.12,.02,.12,.40,-.26,.63,-.21)+\n",
    "            f01@mat4(-.48,.43,-.73,-.40,.11,-.01,.71,.05,-.25,.25,-.28,-.20,.32,-.02,-.84,.16)+\n",
    "            f02@mat4(.39,-.07,.90,.36,-.38,-.27,-1.86,-.39,.48,-.20,-.05,.10,-.00,-.21,.29,.63)+\n",
    "            f03@mat4(.46,-.32,.06,.09,.72,-.47,.81,.78,.90,.02,-.21,.08,-.16,.22,.32,-.13)+\n",
    "            vec4(3.38,1.20,.84,1.41))+f02\n",
    "        f13=sin(f00@mat4(-.41,-.24,-.71,-.25,-.24,-.75,-.09,.02,-.27,-.42,.02,.03,-.01,.51,-.12,-1.24)+\n",
    "            f01@mat4(.64,.31,-1.36,.61,-.34,.11,.14,.79,.22,-.16,-.29,-.70,.02,-.37,.49,.39)+\n",
    "            f02@mat4(.79,.47,.54,-.47,-1.13,-.35,-1.03,-.22,-.67,-.26,.10,.21,-.07,-.73,-.11,.72)+\n",
    "            f03@mat4(.43,-.23,.13,.09,1.38,-.63,1.57,-.20,.39,-.14,.42,.13,-.57,-.08,-.21,.21)+\n",
    "            vec4(-.34,-3.28,.43,-.52))+f03\n",
    "        f00=sin(f10@mat4(-.72,.23,-.89,.52,.38,.19,-.16,-.88,.26,-.37,.09,.63,.29,-.72,.30,-.95)+\n",
    "            f11@mat4(-.22,-.51,-.42,-.73,-.32,.00,-1.03,1.17,-.20,-.03,-.13,-.16,-.41,.09,.36,-.84)+\n",
    "            f12@mat4(-.21,.01,.33,.47,.05,.20,-.44,-1.04,.13,.12,-.13,.31,.01,-.34,.41,-.34)+\n",
    "            f13@mat4(-.13,-.06,-.39,-.22,.48,.25,.24,-.97,-.34,.14,.42,-.00,-.44,.05,.09,-.95)+\n",
    "            vec4(.48,.87,-.87,-2.06))/1.4+f10\n",
    "        f01=sin(f10@mat4(-.27,.29,-.21,.15,.34,-.23,.85,-.09,-1.15,-.24,-.05,-.25,-.12,-.73,-.17,-.37)+\n",
    "            f11@mat4(-1.11,.35,-.93,-.06,-.79,-.03,-.46,-.37,.60,-.37,-.14,.45,-.03,-.21,.02,.59)+\n",
    "            f12@mat4(-.92,-.17,-.58,-.18,.58,.60,.83,-1.04,-.80,-.16,.23,-.11,.08,.16,.76,.61)+\n",
    "            f13@mat4(.29,.45,.30,.39,-.91,.66,-.35,-.35,.21,.16,-.54,-.63,1.10,-.38,.20,.15)+\n",
    "            vec4(-1.72,-.14,1.92,2.08))/1.4+f11\n",
    "        f02=sin(f10@mat4(1.00,.66,1.30,-.51,.88,.25,-.67,.03,-.68,-.08,-.12,-.14,.46,1.15,.38,-.10)+\n",
    "            f11@mat4(.51,-.57,.41,-.09,.68,-.50,-.04,-1.01,.20,.44,-.60,.46,-.09,-.37,-1.30,.04)+\n",
    "            f12@mat4(.14,.29,-.45,-.06,-.65,.33,-.37,-.95,.71,-.07,1.00,-.60,-1.68,-.20,-.00,-.70)+\n",
    "            f13@mat4(-.31,.69,.56,.13,.95,.36,.56,.59,-.63,.52,-.30,.17,1.23,.72,.95,.75)+\n",
    "            vec4(-.90,-3.26,-.44,-3.11))/1.4+f12\n",
    "        f03=sin(f10@mat4(.51,-.98,-.28,.16,-.22,-.17,-1.03,.22,.70,-.15,.12,.43,.78,.67,-.85,-.25)+\n",
    "            f11@mat4(.81,.60,-.89,.61,-1.03,-.33,.60,-.11,-.06,.01,-.02,-.44,.73,.69,1.02,.62)+\n",
    "            f12@mat4(-.10,.52,.80,-.65,.40,-.75,.47,1.56,.03,.05,.08,.31,-.03,.22,-1.63,.07)+\n",
    "            f13@mat4(-.18,-.07,-1.22,.48,-.01,.56,.07,.15,.24,.25,-.09,-.54,.23,-.08,.20,.36)+\n",
    "            vec4(-1.11,-4.28,1.02,-.23))/1.4+f13\n",
    "        sd = dot(f00,vec4(.09,.12,-.07,-.03))+dot(f01,vec4(-.04,.07,-.08,.05))+dot(f02,vec4(-.01,.06,-.02,.07))+dot(f03,vec4(-.05,.07,.03,.04))-0.16\n",
    "\n",
    "    return sd"
   ]
  },
  {
   "cell_type": "code",
   "execution_count": null,
   "metadata": {},
   "outputs": [],
   "source": []
  },
  {
   "cell_type": "code",
   "execution_count": null,
   "metadata": {},
   "outputs": [],
   "source": []
  },
  {
   "cell_type": "code",
   "execution_count": null,
   "metadata": {},
   "outputs": [],
   "source": [
    "x = ti.field(float, shape=(3, 3))\n",
    "a = np.arange(9).reshape(3, 3).astype(np.int32)\n",
    "x.from_numpy(a)\n",
    "print(x)\n",
    "type(x)"
   ]
  },
  {
   "cell_type": "code",
   "execution_count": null,
   "metadata": {},
   "outputs": [],
   "source": [
    "arr = x.to_numpy()\n",
    "print(arr)\n",
    "type(arr)"
   ]
  },
  {
   "cell_type": "code",
   "execution_count": null,
   "metadata": {},
   "outputs": [],
   "source": [
    "field = ti.Vector.field(3, int, shape=(256, 512))\n",
    "field.shape  # (256, 512)\n",
    "field.n      # 3\n",
    "\n",
    "array = field.to_numpy()\n",
    "array.shape  # (256, 512, 3)\n",
    "print(type(array))\n",
    "\n",
    "field.from_numpy(array)  # the input array must in the shape (256, 512, 3)\n",
    "print(type(field))"
   ]
  },
  {
   "cell_type": "markdown",
   "metadata": {},
   "source": [
    "## Render"
   ]
  }
 ],
 "metadata": {
  "kernelspec": {
   "display_name": "cg",
   "language": "python",
   "name": "python3"
  },
  "language_info": {
   "codemirror_mode": {
    "name": "ipython",
    "version": 3
   },
   "file_extension": ".py",
   "mimetype": "text/x-python",
   "name": "python",
   "nbconvert_exporter": "python",
   "pygments_lexer": "ipython3",
   "version": "3.11.9"
  }
 },
 "nbformat": 4,
 "nbformat_minor": 2
}
