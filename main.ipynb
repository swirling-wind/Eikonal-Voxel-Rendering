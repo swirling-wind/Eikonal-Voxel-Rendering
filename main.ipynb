{
 "cells": [
  {
   "cell_type": "code",
   "execution_count": 1,
   "metadata": {},
   "outputs": [
    {
     "name": "stdout",
     "output_type": "stream",
     "text": [
      "[Taichi] version 1.7.1, llvm 15.0.1, commit 0f143b2f, win, python 3.11.9\n"
     ]
    }
   ],
   "source": [
    "from scene import Scene\n",
    "import taichi as ti\n",
    "from taichi.math import *"
   ]
  },
  {
   "cell_type": "code",
   "execution_count": 9,
   "metadata": {},
   "outputs": [
    {
     "name": "stdout",
     "output_type": "stream",
     "text": [
      "[Taichi] Starting on arch=vulkan\n",
      "\n",
      "====================================================\n",
      "Camera:\n",
      "* Drag with your left mouse button to rotate\n",
      "* Press W/A/S/D/Q/E to move\n",
      "====================================================\n",
      "\n"
     ]
    }
   ],
   "source": [
    "scene = Scene()\n",
    "scene.set_floor(0, (0.5, 0.5, 1))\n",
    "\n",
    "@ti.kernel\n",
    "def initialize_voxels():\n",
    "    for i in range(31):\n",
    "        for j in range(31):\n",
    "            # Light wall\n",
    "            is_light = int(j % 10 != 0)\n",
    "            scene.set_voxel(vec3(j, i, -30), is_light + 1, vec3(1, 1, 1))\n",
    "            color = max(i, j)\n",
    "\n",
    "            # Rainbow wall\n",
    "            if color % 2 == 0:\n",
    "                scene.set_voxel(\n",
    "                    vec3(0, i, j - 30), 1,\n",
    "                    vec3((color % 3 // 2) * 0.5 + 0.5,\n",
    "                         ((color + 1) % 3 // 2) * 0.5 + 0.5,\n",
    "                         ((color + 2) % 3 // 2) * 0.5 + 0.5))\n",
    "\n",
    "    # floor tile\n",
    "    for i in range(31):\n",
    "        for j in range(31):\n",
    "            c = (i + j) % 2\n",
    "            index = vec3(i, 0, j - 30)\n",
    "            scene.set_voxel(index, 1,\n",
    "                            vec3(c * 0.3 + 0.3, (1 - c) * 0.8 + 0.2, 1))\n",
    "\n",
    "\n",
    "initialize_voxels()\n",
    "scene.finish()"
   ]
  },
  {
   "cell_type": "code",
   "execution_count": null,
   "metadata": {},
   "outputs": [],
   "source": []
  },
  {
   "cell_type": "code",
   "execution_count": null,
   "metadata": {},
   "outputs": [],
   "source": []
  }
 ],
 "metadata": {
  "kernelspec": {
   "display_name": "cg",
   "language": "python",
   "name": "python3"
  },
  "language_info": {
   "codemirror_mode": {
    "name": "ipython",
    "version": 3
   },
   "file_extension": ".py",
   "mimetype": "text/x-python",
   "name": "python",
   "nbconvert_exporter": "python",
   "pygments_lexer": "ipython3",
   "version": "3.11.9"
  }
 },
 "nbformat": 4,
 "nbformat_minor": 2
}
