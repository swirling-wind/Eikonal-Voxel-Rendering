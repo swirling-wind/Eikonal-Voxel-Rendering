{
 "cells": [
  {
   "cell_type": "markdown",
   "metadata": {},
   "source": [
    "## 1. Load voxel model"
   ]
  },
  {
   "cell_type": "code",
   "execution_count": null,
   "metadata": {},
   "outputs": [],
   "source": [
    "from setup.voxel_setup import setup_voxel_scene\n",
    "from common.plot import Plotter\n",
    "from common.figure import *\n",
    "from simulation.simulator import get_irrad_loc_dir, compute_ior_gradient\n",
    "\n",
    "import taichi as ti\n",
    "import matplotlib.pyplot as plt\n",
    "import numpy as np\n",
    "\n",
    "%load_ext autoreload\n",
    "%autoreload 2\n",
    "# May comment it because the compatibility of this extension is not good\n",
    "# %matplotlib widget \n",
    "\n",
    "# debug=True to check boundary access\n",
    "ti.init(arch=ti.gpu)\n",
    "\n",
    "SCENE_CFG = {\n",
    "    # Optional Names: \"geometry\", \"bunny\", \"footed_glass\", \"stemmed_glass\"\n",
    "    \"Name\": \"geometry\", \n",
    "     \n",
    "    \"HDR Res\": (4000, 2000), \n",
    "    \"HDR Name\": \"Light_wooden_floor_room_4k.hdr\",\n",
    "    \"Cam Pos\": [(-2, 1, 4), (0, 0.1, 1.5), (1, 2, 1)],\n",
    "\n",
    "    # \"HDR Res\": (2000, 1000),\n",
    "    # \"HDR Name\": \"Light_wooden_frame_room_2k.hdr\",\n",
    "    # \"Cam Pos\": [(2, 0.5, 2), (-2, -1, 2), (-2, -1, 0)],\n",
    "\n",
    "    \"Screen Res\": (1280, 960),\n",
    "    \n",
    "    \"Num XYZ\": (128, 128, 128),\n",
    "    'Floor Ratio': -0.95,\n",
    "\n",
    "    \"Sampler Num\": 8,\n",
    "\n",
    "    \"Load Save\": True,\n",
    "\n",
    "    \"Save Fig\": False,\n",
    "}\n",
    "\n",
    "PROC_CFG = {\n",
    "    \"Gauss Sigma\": 4.0,\n",
    "    \"Gauss Radius\": 2,\n",
    "\n",
    "    \"Grad Threshold\": 0.0,\n",
    "}\n",
    "\n",
    "plotter = Plotter(SCENE_CFG)\n",
    "scene = setup_voxel_scene(SCENE_CFG)\n",
    "\n",
    "scene.apply_filter(PROC_CFG)\n",
    "scene.gradient = compute_ior_gradient(scene.ior)\n",
    "plotter.plot_wavefront(scene.ior, None, None)"
   ]
  },
  {
   "cell_type": "markdown",
   "metadata": {},
   "source": [
    "## 2. Perform light simulation"
   ]
  },
  {
   "cell_type": "code",
   "execution_count": null,
   "metadata": {},
   "outputs": [],
   "source": [
    "scene.irradiance, scene.local_diretion = get_irrad_loc_dir(scene, SCENE_CFG, plotter=plotter,\n",
    "                                                           num_show_images=2)\n"
   ]
  },
  {
   "cell_type": "code",
   "execution_count": null,
   "metadata": {},
   "outputs": [],
   "source": [
    "# plotter.plot_irradiance_grid(scene.irradiance)\n",
    "plotter.plot_irradiance_slices(scene.irradiance, \"np-irrad\", num_slices=4, z_start=30, z_end=100)\n",
    "\n",
    "# plotter.plot_local_direction_grid_slices(scene.local_diretion[:, floor_height:, :], num_slices=4, z_start=30, z_end=100)"
   ]
  },
  {
   "cell_type": "markdown",
   "metadata": {},
   "source": [
    "## 3. Ray marching render"
   ]
  },
  {
   "cell_type": "code",
   "execution_count": null,
   "metadata": {},
   "outputs": [],
   "source": [
    "# scene.rt_render(free_mode=False)\n",
    "save_offline_render(scene, SCENE_CFG, filename=\"Origin\", to_plot=True)"
   ]
  },
  {
   "cell_type": "markdown",
   "metadata": {},
   "source": [
    "## 4. Different data structures to store or fit irradiance"
   ]
  },
  {
   "cell_type": "code",
   "execution_count": null,
   "metadata": {},
   "outputs": [],
   "source": [
    "from data.siren import SirenFitter, siren_post_process\n",
    "from data.mlp import MLPFitter, mlp_post_process\n",
    "from data.octree import Octree, octree_post_process"
   ]
  },
  {
   "cell_type": "markdown",
   "metadata": {},
   "source": [
    "### 4.1 SIREN to fit irradiance"
   ]
  },
  {
   "cell_type": "code",
   "execution_count": null,
   "metadata": {},
   "outputs": [],
   "source": [
    "siren_fitter= SirenFitter(scene.irradiance, SCENE_CFG,\n",
    "                     hidden_features=256, hidden_layers=3, omega=24)\n",
    "siren_fitter.fit(total_epochs=30, batch_size=20000, lr=5e-4) "
   ]
  },
  {
   "cell_type": "code",
   "execution_count": null,
   "metadata": {},
   "outputs": [],
   "source": [
    "siren_res = siren_fitter.infer()\n",
    "plotter.plot_irradiance_slices(siren_res, \"siren-irrad\", threshold=3, num_slices=4, z_start=30, z_end=100)\n",
    "siren_res.shape"
   ]
  },
  {
   "cell_type": "code",
   "execution_count": null,
   "metadata": {},
   "outputs": [],
   "source": [
    "# corrected_siren_res = siren_post_process(siren_res, gamma=None)\n",
    "# plotter.plot_irradiance_slices(corrected_siren_res, \"corrected-siren-irrad\", threshold=3, num_slices=4, z_start=30, z_end=100)\n",
    "# assert corrected_siren_res.shape == scene.irradiance.shape, \"The shape of the corrected siren result should be the same as the original irradiance grid\""
   ]
  },
  {
   "cell_type": "code",
   "execution_count": null,
   "metadata": {},
   "outputs": [],
   "source": [
    "scene.irradiance = siren_res\n",
    "\n",
    "# scene.rt_render(False)\n",
    "save_offline_render(scene, SCENE_CFG, filename=\"Siren\", to_plot=True)"
   ]
  },
  {
   "cell_type": "markdown",
   "metadata": {},
   "source": [
    "### 4.2 MLP to fit irradiance"
   ]
  },
  {
   "cell_type": "code",
   "execution_count": null,
   "metadata": {},
   "outputs": [],
   "source": [
    "mlp = MLPFitter(scene.irradiance, SCENE_CFG, num_epoches=1000)"
   ]
  },
  {
   "cell_type": "code",
   "execution_count": null,
   "metadata": {},
   "outputs": [],
   "source": [
    "# Visualize the predicted irradiance field\n",
    "mlp_predicted_irradiance = mlp.predict(pad=True)\n",
    "plotter.plot_irradiance_slices(mlp_predicted_irradiance, \"mlp-irrad\", threshold=3, \n",
    "                               num_slices=4, z_start=30, z_end=100)"
   ]
  },
  {
   "cell_type": "code",
   "execution_count": null,
   "metadata": {},
   "outputs": [],
   "source": [
    "# corrected_mlp_res = mlp_post_process(mlp_predicted_irradiance, None)\n",
    "# plotter.plot_irradiance_slices(corrected_mlp_res, \"corrected-mlp-irrad\", threshold=3, num_slices=4, z_start=30, z_end=100)\n",
    "# assert corrected_mlp_res.shape == scene.irradiance.shape, \"The shape of the corrected mlp result should be the same as the original irradiance grid\""
   ]
  },
  {
   "cell_type": "code",
   "execution_count": null,
   "metadata": {},
   "outputs": [],
   "source": [
    "scene.irradiance = np.clip(mlp_predicted_irradiance, 0, 255)\n",
    "# scene.rt_render(False)\n",
    "\n",
    "save_offline_render(scene, SCENE_CFG, filename=\"MLP\", to_plot=True)"
   ]
  },
  {
   "cell_type": "markdown",
   "metadata": {},
   "source": [
    "### 4.3 Octree to store irradiance"
   ]
  },
  {
   "cell_type": "code",
   "execution_count": null,
   "metadata": {},
   "outputs": [],
   "source": [
    "octree = Octree(threshold=12)\n",
    "octree.construct(scene.irradiance)\n",
    "print(f\"Number of nodes: {len(octree)}\")\n",
    "print(f\"Octree Memory usage: {octree.__sizeof__()} bytes\")\n",
    "print(f\"In comparison, NumPy Storage Usage: {scene.irradiance.nbytes} bytes\")\n",
    "octree.visualize(plotter, \"octree-irrad\", num_slices=4, z_start=30, z_end=100)"
   ]
  },
  {
   "cell_type": "code",
   "execution_count": null,
   "metadata": {},
   "outputs": [],
   "source": [
    "\n",
    "octree_res = octree.init_empty_grid()\n",
    "octree.fill_grid(octree.root, octree_res, 0, 0, 0, octree.grid_size)\n",
    "# plotter.plot_irradiance_slices(octree_res, threshold=3, num_slices=4, z_start=30, z_end=100)\n",
    "# corrected_octree_res = octree_post_process(octree_res)\n",
    "# plotter.plot_irradiance_slices(corrected_octree_res, threshold=3, num_slices=4, z_start=30, z_end=100)\n",
    "# assert corrected_octree_res.shape == scene.irradiance.shape, \"The shape of the corrected octree result should be the same as the original irradiance grid\"\n",
    "\n",
    "scene.irradiance = np.clip(octree_res, 0, 255)\n",
    "\n",
    "# scene.rt_render(False)\n",
    "\n",
    "save_offline_render(scene, SCENE_CFG, filename=\"Octree\", to_plot=True)\n",
    "\n",
    "# x, y, z = 60, 60, 60\n",
    "# value = octree.query(x, y, z)\n",
    "# value"
   ]
  }
 ],
 "metadata": {
  "kernelspec": {
   "display_name": "cg",
   "language": "python",
   "name": "python3"
  },
  "language_info": {
   "codemirror_mode": {
    "name": "ipython",
    "version": 3
   },
   "file_extension": ".py",
   "mimetype": "text/x-python",
   "name": "python",
   "nbconvert_exporter": "python",
   "pygments_lexer": "ipython3",
   "version": "3.11.9"
  }
 },
 "nbformat": 4,
 "nbformat_minor": 2
}
