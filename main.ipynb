{
 "cells": [
  {
   "cell_type": "markdown",
   "metadata": {},
   "source": [
    "## 1. Load voxel model"
   ]
  },
  {
   "cell_type": "code",
   "execution_count": 12,
   "metadata": {},
   "outputs": [
    {
     "name": "stdout",
     "output_type": "stream",
     "text": [
      "The autoreload extension is already loaded. To reload it, use:\n",
      "  %reload_ext autoreload\n",
      "[Taichi] Starting on arch=cuda\n",
      "Floor Ratio: -0.95 , Floor Height: 3\n",
      "Loaded Voxel shape: (128, 128, 128)  from: ./assets/bun_zipper_res3.ply\n",
      "Number of filled voxels: 237786\n"
     ]
    }
   ],
   "source": [
    "from setup.voxel_setup import setup_voxel_scene\n",
    "from common.plot import Plotter\n",
    "from common.figure import *\n",
    "from simulation.simulator import get_irrad_loc_dir, compute_ior_gradient\n",
    "\n",
    "import taichi as ti\n",
    "import matplotlib.pyplot as plt\n",
    "import numpy as np\n",
    "\n",
    "%load_ext autoreload\n",
    "%autoreload 2\n",
    "# May comment it because the compatibility of this extension is not good\n",
    "%matplotlib widget \n",
    "\n",
    "# debug=True to check boundary access\n",
    "ti.init(arch=ti.gpu)\n",
    "\n",
    "######## Prefix for scattering only rendering or reflection only rendering ########\n",
    "PREFIX = \"scatter-\" #\"reflect-\"  #\"\"  # \"\" #  \n",
    "\n",
    "SCENE_CFG = {    \n",
    "\n",
    "    \"Name\": \"bunny\", # Remember to change the ray marching's THRESHOLD to geometry's\n",
    "    \"Cam Pos\": [(4, -1, -1.5), (-3, 1, 2), (-1, 0, 2.1)],\n",
    "\n",
    "    # \"Name\": \"bunny\",  # Remember to change the ray marching's THRESHOLD to bunny's\n",
    "    # \"Cam Pos\": [(4, -1, -1.5), (-3, 2.5, 2), (0, 1, 2.1)],\n",
    "\n",
    "\n",
    "    \"Screen Res\": (1280, 960),\n",
    "    \"HDR Res\": (2000, 1000),\n",
    "    \"HDR Name\": \"Light_wooden_frame_room_2k.hdr\",\n",
    "    \n",
    "    \"Num XYZ\": (128, 128, 128),\n",
    "    'Floor Ratio': -0.95,\n",
    "\n",
    "    \"Sampler Num\": 8,\n",
    "\n",
    "    \"Load Save\": True,\n",
    "\n",
    "    \"Save Fig\": False,\n",
    "}\n",
    "\n",
    "PROC_CFG = {\n",
    "    \"Gauss Sigma\": 4.0,\n",
    "    \"Gauss Radius\": 2,\n",
    "\n",
    "    \"Grad Threshold\": 0.0,\n",
    "}\n",
    "\n",
    "plotter = Plotter(SCENE_CFG)\n",
    "scene = setup_voxel_scene(SCENE_CFG)\n",
    "\n",
    "scene.apply_filter(PROC_CFG)\n",
    "scene.gradient = compute_ior_gradient(scene.ior)\n",
    "# plotter.plot_wavefront(scene.ior, None, None)"
   ]
  },
  {
   "cell_type": "code",
   "execution_count": null,
   "metadata": {},
   "outputs": [],
   "source": [
    "# Average frames per second:\n",
    "\n",
    "# geometry scene:\n",
    "# index 0: 27.17 fps\n",
    "# index 1: 28.96 fps\n",
    "# index 2: 28.93 fps\n",
    "\n",
    "\n",
    "# bunny scene:\n",
    "# index 0: 34.35 fps\n",
    "# index 1: 35.31 fps\n",
    "# index 2: 38.84 fps\n",
    "\n",
    "# 1% low frames per second:\n",
    "\n",
    "# geometry scene:\n",
    "# index 0: 24.34 fps\n",
    "# index 1: 24.78 fps\n",
    "# index 2: 25.02 fps\n",
    "\n",
    "# bunny scene:\n",
    "# index 0: 31.58 fps\n",
    "# index 1: 33.35 fps\n",
    "# index 2: 35.81 fps"
   ]
  },
  {
   "cell_type": "code",
   "execution_count": 15,
   "metadata": {},
   "outputs": [],
   "source": [
    "import open3d as o3d\n",
    "\n",
    "def visualize_voxels(scene_ior):\n",
    "    # 假设scene_ior是一个三维numpy数组\n",
    "    x, y, z = scene_ior.shape\n",
    "    \n",
    "    # 创建一个点云来表示非零体素\n",
    "    points = np.argwhere(scene_ior > 0).astype(np.float32)\n",
    "    colors = np.array([scene_ior[tuple(point)] for point in points.astype(int)])\n",
    "    \n",
    "    # 归一化颜色值到0-1范围\n",
    "    colors = (colors - np.min(colors)) / (np.max(colors) - np.min(colors))\n",
    "    colors = np.column_stack((colors, colors, colors))  # 创建RGB颜色\n",
    "\n",
    "    # 创建Open3D点云对象\n",
    "    pcd = o3d.geometry.PointCloud()\n",
    "    pcd.points = o3d.utility.Vector3dVector(points)\n",
    "    pcd.colors = o3d.utility.Vector3dVector(colors)\n",
    "\n",
    "    # 创建一个可视化窗口\n",
    "    vis = o3d.visualization.Visualizer()\n",
    "    vis.create_window()\n",
    "\n",
    "    # 添加点云到可视化窗口\n",
    "    vis.add_geometry(pcd)\n",
    "\n",
    "    # 设置一些渲染选项\n",
    "    opt = vis.get_render_option()\n",
    "    opt.background_color = np.asarray([0.5, 0.5, 0.5])  # 灰色背景\n",
    "    opt.point_size = 3.0  # 增加点的大小以更好地模拟体素\n",
    "\n",
    "    # 设置相机视角\n",
    "    ctr = vis.get_view_control()\n",
    "    ctr.set_zoom(0.8)\n",
    "    ctr.set_front([0.5, -0.5, 0.0])\n",
    "    ctr.set_lookat([x/2, y/2, z/2])\n",
    "    ctr.set_up([0, 0, 1])\n",
    "\n",
    "    # 运行可视化\n",
    "    vis.run()\n",
    "    vis.destroy_window()\n",
    "\n",
    "# 示例使用\n",
    "scene_ior = scene.ior - 1.0\n",
    "visualize_voxels(scene_ior)"
   ]
  },
  {
   "cell_type": "markdown",
   "metadata": {},
   "source": [
    "## 2. Perform light simulation"
   ]
  },
  {
   "cell_type": "code",
   "execution_count": null,
   "metadata": {},
   "outputs": [],
   "source": [
    "########## 3D IOR Gradient testing ##########\n",
    "# plotter.plot_gradient(scene.gradient)\n",
    "# y_max = 20\n",
    "# for x in range(77, 90, 2):\n",
    "#     grad_length_list = []\n",
    "#     ior_list = []\n",
    "#     for vec in scene.gradient[x, y_max, :]:\n",
    "#         cur_len = np.linalg.norm(vec) * 10\n",
    "#         grad_length_list.append(cur_len)\n",
    "#     for vec in scene.ior[x, y_max, :]:\n",
    "#         ior_list.append(vec)\n",
    "#     plt.plot(grad_length_list, label=\"length(grad)\")\n",
    "#     plt.plot(ior_list, label=\"IOR\")\n",
    "#     plt.legend()\n",
    "#     plt.title(\"Length(Gradient). x = {}\".format(x))\n",
    "#     plt.show()\n",
    "# ndimage gaussian\n",
    "\n",
    "########## 2D IOR Projection ##########\n",
    "from scipy.ndimage import gaussian_filter\n",
    "\n",
    "input_3d_ior = scene.ior\n",
    "ior_2d_projection = np.max(input_3d_ior, axis=2)[:, ::-1].T\n",
    "ior_2d_projection = gaussian_filter(ior_2d_projection, sigma=4.0, radius=2)\n",
    "print(ior_2d_projection.shape)\n",
    "# visualize the 2D projection of IOR withou plotter\n",
    "plt.figure(figsize=(10, 10))\n",
    "plt.imshow(ior_2d_projection, cmap='Blues', vmin=1.0, vmax=1.5)\n",
    "plt.colorbar()\n",
    "plt.title(\"2D Projection of IOR\")\n",
    "plt.show()\n",
    "plt.figure(figsize=(10, 10))\n",
    "plt.imshow(scene.ior[:, 28, :], cmap='Blues', vmin=1.0, vmax=1.5)\n",
    "plt.colorbar()\n",
    "plt.title(\"2D Projection of IOR\")\n",
    "plt.show()\n",
    "\n",
    "# scene_name = SCENE_CFG[\"Name\"]\n",
    "# np_save_path = os.path.join(os.getcwd(), \"wavefront2d\", scene_name + \"-2d_ior.npy\")\n",
    "# np.save(convex_save_path, ior_2d_projection)"
   ]
  },
  {
   "cell_type": "code",
   "execution_count": null,
   "metadata": {},
   "outputs": [],
   "source": [
    "scene.irradiance, scene.local_diretion = get_irrad_loc_dir(scene, SCENE_CFG, plotter=plotter,\n",
    "                                                           num_show_images=2)\n",
    "# plotter.plot_irradiance_grid(scene.irradiance)\n",
    "# plotter.plot_irradiance_slices(scene.irradiance, \"np-irrad\", num_slices=4, z_start=30, z_end=100)\n",
    "# plotter.plot_local_direction_grid_slices(scene.local_diretion[:, floor_height:, :], num_slices=4, z_start=30, z_end=100)"
   ]
  },
  {
   "cell_type": "markdown",
   "metadata": {},
   "source": [
    "## 3. Ray marching render"
   ]
  },
  {
   "cell_type": "code",
   "execution_count": null,
   "metadata": {},
   "outputs": [],
   "source": [
    "scene.rt_render(free_mode=False)\n",
    "# save_offline_render(scene, SCENE_CFG, filename=PREFIX+\"Origin\", to_plot=True)"
   ]
  },
  {
   "cell_type": "markdown",
   "metadata": {},
   "source": [
    "## 4. Different data structures to store or fit irradiance"
   ]
  },
  {
   "cell_type": "code",
   "execution_count": null,
   "metadata": {},
   "outputs": [],
   "source": [
    "from data.siren import SirenFitter, siren_post_process\n",
    "from data.mlp import MLPFitter, mlp_post_process\n",
    "from data.octree import Octree, octree_post_process"
   ]
  },
  {
   "cell_type": "markdown",
   "metadata": {},
   "source": [
    "### 4.1 SIREN to fit irradiance"
   ]
  },
  {
   "cell_type": "code",
   "execution_count": null,
   "metadata": {},
   "outputs": [],
   "source": [
    "siren_fitter= SirenFitter(scene.irradiance, SCENE_CFG,\n",
    "                     hidden_features=256, hidden_layers=3, omega=24)\n",
    "siren_fitter.fit(total_epochs=30, batch_size=20000, lr=5e-4) "
   ]
  },
  {
   "cell_type": "code",
   "execution_count": null,
   "metadata": {},
   "outputs": [],
   "source": [
    "siren_res = siren_fitter.infer()\n",
    "plotter.plot_irradiance_slices(siren_res, \"siren-irrad\", threshold=3, num_slices=4, z_start=30, z_end=100)\n",
    "siren_res.shape"
   ]
  },
  {
   "cell_type": "code",
   "execution_count": null,
   "metadata": {},
   "outputs": [],
   "source": [
    "# corrected_siren_res = siren_post_process(siren_res, gamma=None)\n",
    "# plotter.plot_irradiance_slices(corrected_siren_res, \"corrected-siren-irrad\", threshold=3, num_slices=4, z_start=30, z_end=100)\n",
    "# assert corrected_siren_res.shape == scene.irradiance.shape, \"The shape of the corrected siren result should be the same as the original irradiance grid\""
   ]
  },
  {
   "cell_type": "code",
   "execution_count": null,
   "metadata": {},
   "outputs": [],
   "source": [
    "scene.irradiance = siren_res\n",
    "\n",
    "# scene.rt_render(False)\n",
    "save_offline_render(scene, SCENE_CFG, filename=PREFIX+\"Siren\", to_plot=True)"
   ]
  },
  {
   "cell_type": "markdown",
   "metadata": {},
   "source": [
    "### 4.2 MLP to fit irradiance"
   ]
  },
  {
   "cell_type": "code",
   "execution_count": null,
   "metadata": {},
   "outputs": [],
   "source": [
    "mlp = MLPFitter(scene.irradiance, SCENE_CFG, num_epoches=1000)"
   ]
  },
  {
   "cell_type": "code",
   "execution_count": null,
   "metadata": {},
   "outputs": [],
   "source": [
    "# Visualize the predicted irradiance field\n",
    "mlp_predicted_irradiance = mlp.predict(pad=True)\n",
    "plotter.plot_irradiance_slices(mlp_predicted_irradiance, \"mlp-irrad\", threshold=3, \n",
    "                               num_slices=4, z_start=30, z_end=100)"
   ]
  },
  {
   "cell_type": "code",
   "execution_count": null,
   "metadata": {},
   "outputs": [],
   "source": [
    "# corrected_mlp_res = mlp_post_process(mlp_predicted_irradiance, None)\n",
    "# plotter.plot_irradiance_slices(corrected_mlp_res, \"corrected-mlp-irrad\", threshold=3, num_slices=4, z_start=30, z_end=100)\n",
    "# assert corrected_mlp_res.shape == scene.irradiance.shape, \"The shape of the corrected mlp result should be the same as the original irradiance grid\""
   ]
  },
  {
   "cell_type": "code",
   "execution_count": null,
   "metadata": {},
   "outputs": [],
   "source": [
    "scene.irradiance = np.clip(mlp_predicted_irradiance, 0, 255)\n",
    "# scene.rt_render(False)\n",
    "\n",
    "save_offline_render(scene, SCENE_CFG, filename=PREFIX+\"MLP\", to_plot=True)"
   ]
  },
  {
   "cell_type": "markdown",
   "metadata": {},
   "source": [
    "### 4.3 Octree to store irradiance"
   ]
  },
  {
   "cell_type": "code",
   "execution_count": null,
   "metadata": {},
   "outputs": [],
   "source": [
    "octree = Octree(threshold=12)\n",
    "octree.construct(scene.irradiance)\n",
    "print(f\"Number of nodes: {len(octree)}\")\n",
    "print(f\"Octree Memory usage: {octree.__sizeof__()} bytes\")\n",
    "print(f\"In comparison, NumPy Storage Usage: {scene.irradiance.nbytes} bytes\")\n",
    "octree.visualize(plotter, \"octree-irrad\", num_slices=4, z_start=30, z_end=100)"
   ]
  },
  {
   "cell_type": "code",
   "execution_count": null,
   "metadata": {},
   "outputs": [],
   "source": [
    "\n",
    "octree_res = octree.init_empty_grid()\n",
    "octree.fill_grid(octree.root, octree_res, 0, 0, 0, octree.grid_size)\n",
    "# plotter.plot_irradiance_slices(octree_res, threshold=3, num_slices=4, z_start=30, z_end=100)\n",
    "# corrected_octree_res = octree_post_process(octree_res)\n",
    "# plotter.plot_irradiance_slices(corrected_octree_res, threshold=3, num_slices=4, z_start=30, z_end=100)\n",
    "# assert corrected_octree_res.shape == scene.irradiance.shape, \"The shape of the corrected octree result should be the same as the original irradiance grid\"\n",
    "\n",
    "scene.irradiance = np.clip(octree_res, 0, 255)\n",
    "\n",
    "# scene.rt_render(False)\n",
    "\n",
    "save_offline_render(scene, SCENE_CFG, filename=PREFIX+\"Octree\", to_plot=True)\n",
    "\n",
    "# x, y, z = 60, 60, 60\n",
    "# value = octree.query(x, y, z)\n",
    "# value"
   ]
  }
 ],
 "metadata": {
  "kernelspec": {
   "display_name": "cg",
   "language": "python",
   "name": "python3"
  },
  "language_info": {
   "codemirror_mode": {
    "name": "ipython",
    "version": 3
   },
   "file_extension": ".py",
   "mimetype": "text/x-python",
   "name": "python",
   "nbconvert_exporter": "python",
   "pygments_lexer": "ipython3",
   "version": "3.11.9"
  }
 },
 "nbformat": 4,
 "nbformat_minor": 2
}
