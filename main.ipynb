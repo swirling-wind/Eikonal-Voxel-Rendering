{
 "cells": [
  {
   "cell_type": "code",
   "execution_count": 1,
   "metadata": {},
   "outputs": [
    {
     "name": "stdout",
     "output_type": "stream",
     "text": [
      "[Taichi] version 1.7.1, llvm 15.0.1, commit 0f143b2f, win, python 3.11.9\n"
     ]
    }
   ],
   "source": [
    "from scene import Scene\n",
    "import taichi as ti\n",
    "from taichi.math import *\n",
    "import numpy as np\n",
    "\n",
    "%load_ext autoreload\n",
    "%autoreload 2"
   ]
  },
  {
   "cell_type": "code",
   "execution_count": 2,
   "metadata": {},
   "outputs": [
    {
     "name": "stdout",
     "output_type": "stream",
     "text": [
      "[Taichi] Starting on arch=cuda\n",
      "\n",
      "====================================================\n",
      "Camera:\n",
      "* Drag with your left mouse button to rotate\n",
      "* Press W/A/S/D/Q/E to move\n",
      "====================================================\n",
      "\n",
      "[0. 0. 2.] [0. 0. 0.]\n"
     ]
    }
   ],
   "source": [
    "@ti.func\n",
    "def add_pokeball(r, pad, origin, color):\n",
    "    for i, j, k in ti.ndrange((-r-pad, r+pad), (-r-pad, r+pad), (-r-pad, r+pad)):\n",
    "        xyz = ivec3(i, j, k)\n",
    "        if xyz.dot(xyz) < r**2: \n",
    "            scene.set_voxel(vec3(i, j, k) + origin, 1, color)\n",
    "\n",
    "@ti.func\n",
    "def origin_y(largest, r):\n",
    "    return -(largest-r)-1\n",
    "\n",
    "@ti.kernel\n",
    "def initialize_voxels():\n",
    "    add_pokeball(largest_r, 1, vec3(-18, origin_y(largest_r, largest_r), 0),RED)\n",
    "    add_pokeball(medium_r, 1, vec3(2, origin_y(largest_r, medium_r), 24), BLUE)\n",
    "    add_pokeball(small_r, 1, vec3(17, origin_y(largest_r, small_r), -2), WHITE)\n",
    "    \n",
    "def floor_h(largest):\n",
    "    return -1 / 64 * largest\n",
    "\n",
    "largest_r = 18\n",
    "medium_r = 12\n",
    "small_r = 6\n",
    "BLACK, WHITE, YELLOW, PINK = vec3(0, 0, 0), vec3(1, 1, 1), vec3(1,1,0), vec3(1,0.5,0.8)\n",
    "RED, BLUE, PURPLE = vec3(0.9, 0, 0.1), vec3(0, 0.5, 1), vec3(0.2, 0.2, 0.6)\n",
    "\n",
    "scene = Scene(exposure=1)\n",
    "scene.set_directional_light((-1, 1, 1), 0.2, (1, 1, 1))\n",
    "scene.set_background_color((1, 1, 1))\n",
    "scene.set_floor(height=floor_h(largest_r), color=(1, 1, 1))  # set to the largest ball -1/64*r\n",
    "initialize_voxels()\n",
    "scene.finish()"
   ]
  },
  {
   "cell_type": "code",
   "execution_count": null,
   "metadata": {},
   "outputs": [],
   "source": [
    "x = ti.field(float, shape=(3, 3))\n",
    "a = np.arange(9).reshape(3, 3).astype(np.int32)\n",
    "x.from_numpy(a)\n",
    "print(x)\n",
    "type(x)"
   ]
  },
  {
   "cell_type": "code",
   "execution_count": null,
   "metadata": {},
   "outputs": [],
   "source": [
    "arr = x.to_numpy()\n",
    "print(arr)\n",
    "type(arr)"
   ]
  },
  {
   "cell_type": "code",
   "execution_count": null,
   "metadata": {},
   "outputs": [],
   "source": [
    "field = ti.Vector.field(3, int, shape=(256, 512))\n",
    "field.shape  # (256, 512)\n",
    "field.n      # 3\n",
    "\n",
    "array = field.to_numpy()\n",
    "array.shape  # (256, 512, 3)\n",
    "print(type(array))\n",
    "\n",
    "field.from_numpy(array)  # the input array must in the shape (256, 512, 3)\n",
    "print(type(field))"
   ]
  },
  {
   "cell_type": "markdown",
   "metadata": {},
   "source": [
    "## Render"
   ]
  }
 ],
 "metadata": {
  "kernelspec": {
   "display_name": "cg",
   "language": "python",
   "name": "python3"
  },
  "language_info": {
   "codemirror_mode": {
    "name": "ipython",
    "version": 3
   },
   "file_extension": ".py",
   "mimetype": "text/x-python",
   "name": "python",
   "nbconvert_exporter": "python",
   "pygments_lexer": "ipython3",
   "version": "3.11.9"
  }
 },
 "nbformat": 4,
 "nbformat_minor": 2
}
