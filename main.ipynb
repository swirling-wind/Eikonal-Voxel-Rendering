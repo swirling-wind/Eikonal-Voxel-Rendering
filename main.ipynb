{
 "cells": [
  {
   "cell_type": "markdown",
   "metadata": {},
   "source": [
    "## 1. Load voxel model"
   ]
  },
  {
   "cell_type": "code",
   "execution_count": null,
   "metadata": {},
   "outputs": [],
   "source": [
    "from setup.voxel_setup import setup_voxel_scene, NUM_XYZ\n",
    "from common.plot import Plotter\n",
    "from simulation.simulator import get_irrad_loc_dir, compute_ior_gradient\n",
    "from simulation.simulate_utils import remove_under_floor\n",
    "\n",
    "import taichi as ti\n",
    "from scipy import ndimage\n",
    "\n",
    "%load_ext autoreload\n",
    "%autoreload 2\n",
    "# May comment it because the compatibility of this extension is not good\n",
    "%matplotlib widget \n",
    "\n",
    "# debug=True to check boundary access\n",
    "ti.init(arch=ti.gpu)\n",
    "scene, floor_height = setup_voxel_scene()\n",
    "\n",
    "sampler_multiplier = 6\n",
    "to_load_save = True\n",
    "plotter = Plotter(sampler_multiplier, floor_height)\n",
    "\n",
    "scene.ior = ndimage.gaussian_filter(scene.ior, sigma=0.5, radius=1)\n",
    "scene.gradient = compute_ior_gradient(scene.ior)\n",
    "\n",
    "plotter.plot_wavefront(scene.ior, pos=None, dir=None)\n",
    "plotter.plot_gradient(scene.gradient, threshold=0.2)"
   ]
  },
  {
   "cell_type": "markdown",
   "metadata": {},
   "source": [
    "## 2. Perform light simulation"
   ]
  },
  {
   "cell_type": "code",
   "execution_count": null,
   "metadata": {},
   "outputs": [],
   "source": [
    "scene.irradiance, scene.local_diretion = get_irrad_loc_dir(scene, sampler_multiplier, \n",
    "                                                           to_load_save=to_load_save, \n",
    "                                                           plotter=plotter,\n",
    "                                                           num_show_images=3)\n",
    "scene.ior = remove_under_floor(scene.ior, floor_height)"
   ]
  },
  {
   "cell_type": "code",
   "execution_count": null,
   "metadata": {},
   "outputs": [],
   "source": [
    "# plotter.plot_irradiance_grid(scene.irradiance)\n",
    "plotter.plot_irradiance_slices(scene.irradiance, num_slices=4, z_start=30, z_end=100)\n",
    "# plotter.plot_local_direction_grid_slices(scene.local_diretion[:, floor_height:, :], num_slices=4, z_start=30, z_end=100)"
   ]
  },
  {
   "cell_type": "markdown",
   "metadata": {},
   "source": [
    "## 3. Ray marching render"
   ]
  },
  {
   "cell_type": "code",
   "execution_count": null,
   "metadata": {},
   "outputs": [],
   "source": [
    "scene.display()"
   ]
  },
  {
   "cell_type": "markdown",
   "metadata": {},
   "source": [
    "## 4. Different data structures to store or fit irradiance"
   ]
  },
  {
   "cell_type": "code",
   "execution_count": null,
   "metadata": {},
   "outputs": [],
   "source": [
    "from data.siren import SirenFitter, siren_post_process\n",
    "from data.mlp import MLP, mlp_post_process\n",
    "from data.octree import Octree, octree_post_process"
   ]
  },
  {
   "cell_type": "markdown",
   "metadata": {},
   "source": [
    "### 4.1 SIREN to fit irradiance"
   ]
  },
  {
   "cell_type": "code",
   "execution_count": null,
   "metadata": {},
   "outputs": [],
   "source": [
    "siren_fitter= SirenFitter(scene.irradiance, floor_height, sampler_multiplier,\n",
    "                     hidden_features=256, hidden_layers=3, omega=24)\n",
    "siren_fitter.fit(total_epochs=24, batch_size=20000, lr=5e-4)"
   ]
  },
  {
   "cell_type": "code",
   "execution_count": null,
   "metadata": {},
   "outputs": [],
   "source": [
    "siren_res = siren_fitter.infer()\n",
    "plotter.plot_irradiance_slices(siren_res, threshold=3, num_slices=4, z_start=30, z_end=100)\n",
    "siren_res.shape"
   ]
  },
  {
   "cell_type": "code",
   "execution_count": null,
   "metadata": {},
   "outputs": [],
   "source": [
    "corrected_siren_res = siren_post_process(siren_res, gamma=0.2)\n",
    "plotter.plot_irradiance_slices(corrected_siren_res, threshold=3, num_slices=4, z_start=30, z_end=100)"
   ]
  },
  {
   "cell_type": "code",
   "execution_count": null,
   "metadata": {},
   "outputs": [],
   "source": [
    "assert corrected_siren_res.shape == scene.irradiance.shape, \"The shape of the corrected siren result should be the same as the original irradiance grid\"\n",
    "scene.irradiance = corrected_siren_res\n",
    "scene.display()"
   ]
  },
  {
   "cell_type": "markdown",
   "metadata": {},
   "source": [
    "### 4.2 MLP to fit irradiance"
   ]
  },
  {
   "cell_type": "code",
   "execution_count": null,
   "metadata": {},
   "outputs": [],
   "source": [
    "mlp = MLP(scene.irradiance, floor_height, NUM_XYZ, sampler_multiplier, num_epoches=150)"
   ]
  },
  {
   "cell_type": "code",
   "execution_count": null,
   "metadata": {},
   "outputs": [],
   "source": [
    "# Visualize the predicted irradiance field\n",
    "mlp_predicted_irradiance = mlp.predict(pad=True)\n",
    "plotter.plot_irradiance_slices(mlp_predicted_irradiance, threshold=3, \n",
    "                               num_slices=4, z_start=30, z_end=100)"
   ]
  },
  {
   "cell_type": "code",
   "execution_count": null,
   "metadata": {},
   "outputs": [],
   "source": [
    "corrected_mlp_res = mlp_post_process(mlp_predicted_irradiance, None)\n",
    "plotter.plot_irradiance_slices(corrected_mlp_res, threshold=3, num_slices=4, z_start=30, z_end=100)"
   ]
  },
  {
   "cell_type": "code",
   "execution_count": null,
   "metadata": {},
   "outputs": [],
   "source": [
    "assert corrected_mlp_res.shape == scene.irradiance.shape, \"The shape of the corrected mlp result should be the same as the original irradiance grid\"\n",
    "scene.irradiance = corrected_mlp_res\n",
    "scene.display()"
   ]
  },
  {
   "cell_type": "markdown",
   "metadata": {},
   "source": [
    "### 4.3 Octree to store irradiance"
   ]
  },
  {
   "cell_type": "code",
   "execution_count": null,
   "metadata": {},
   "outputs": [],
   "source": [
    "octree = Octree(threshold=14)\n",
    "octree.construct(scene.irradiance)\n",
    "print(f\"Number of nodes: {len(octree)}\")\n",
    "print(f\"Octree Memory usage: {octree.__sizeof__()} bytes\")\n",
    "print(f\"In comparison, NumPy Storage Usage: {scene.irradiance.nbytes} bytes\")\n",
    "octree.visualize(plotter, num_slices=4, z_start=30, z_end=100)"
   ]
  },
  {
   "cell_type": "code",
   "execution_count": null,
   "metadata": {},
   "outputs": [],
   "source": [
    "octree_res = octree.init_empty_grid()\n",
    "octree.fill_grid(octree.root, octree_res, 0, 0, 0, octree.grid_size)\n",
    "plotter.plot_irradiance_slices(octree_res, threshold=3, num_slices=4, z_start=30, z_end=100)"
   ]
  },
  {
   "cell_type": "code",
   "execution_count": null,
   "metadata": {},
   "outputs": [],
   "source": [
    "corrected_octree_res = octree_post_process(octree_res)\n",
    "plotter.plot_irradiance_slices(corrected_octree_res, threshold=3, num_slices=4, z_start=30, z_end=100)"
   ]
  },
  {
   "cell_type": "code",
   "execution_count": null,
   "metadata": {},
   "outputs": [],
   "source": [
    "assert corrected_octree_res.shape == scene.irradiance.shape, \"The shape of the corrected octree result should be the same as the original irradiance grid\"\n",
    "scene.irradiance = corrected_octree_res\n",
    "scene.display()"
   ]
  },
  {
   "cell_type": "code",
   "execution_count": null,
   "metadata": {},
   "outputs": [],
   "source": [
    "x, y, z = 60, 60, 60\n",
    "value = octree.query(x, y, z)\n",
    "value"
   ]
  }
 ],
 "metadata": {
  "kernelspec": {
   "display_name": "cg",
   "language": "python",
   "name": "python3"
  },
  "language_info": {
   "codemirror_mode": {
    "name": "ipython",
    "version": 3
   },
   "file_extension": ".py",
   "mimetype": "text/x-python",
   "name": "python",
   "nbconvert_exporter": "python",
   "pygments_lexer": "ipython3",
   "version": "3.11.9"
  }
 },
 "nbformat": 4,
 "nbformat_minor": 2
}
