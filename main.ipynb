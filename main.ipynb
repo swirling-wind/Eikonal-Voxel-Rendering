{
 "cells": [
  {
   "cell_type": "markdown",
   "metadata": {},
   "source": [
    "## 1. Load voxel model"
   ]
  },
  {
   "cell_type": "code",
   "execution_count": null,
   "metadata": {},
   "outputs": [],
   "source": [
    "from setup.voxel_setup import setup_voxel_scene\n",
    "from common.plot import Plotter\n",
    "from simulation.simulator import get_irrad_loc_dir, compute_ior_gradient\n",
    "\n",
    "import taichi as ti\n",
    "from scipy import ndimage\n",
    "import numpy as np\n",
    "\n",
    "%load_ext autoreload\n",
    "%autoreload 2\n",
    "# May comment it because the compatibility of this extension is not good\n",
    "%matplotlib widget \n",
    "\n",
    "# debug=True to check boundary access\n",
    "ti.init(arch=ti.gpu)\n",
    "\n",
    "SCENE_CFG = {\n",
    "    # Optional Names: \"geometry\", \"bunny\", \"footed_glass\", \"stemmed_glass\"\n",
    "    \"Name\": \"bunny\", \n",
    "     \n",
    "    # \"HDR Res\": (4000, 2000), \n",
    "    # \"HDR Name\": \"Dark_night_4k.hdr\",\n",
    "\n",
    "    \"HDR Res\": (2000, 1000),\n",
    "    \"HDR Name\": \"Light_wooden_frame_room_2k.hdr\",\n",
    "    \n",
    "    \"NUM XYZ\": (128, 128, 128),\n",
    "    'Floor Ratio': -0.95,\n",
    "\n",
    "    \"Sampler Num\": 5,\n",
    "\n",
    "    \"Load Save\": True,\n",
    "}\n",
    "\n",
    "PROC_CFG = {\n",
    "    \"Gauss Sigma\": 4.0,\n",
    "    \"Gauss Radius\": 2,\n",
    "\n",
    "    \"Grad Threshold\": 0.0,\n",
    "}\n",
    "\n",
    "plotter = Plotter(SCENE_CFG)\n",
    "scene = setup_voxel_scene(SCENE_CFG)\n",
    "\n",
    "scene.apply_filter(PROC_CFG)\n",
    "scene.gradient = compute_ior_gradient(scene.ior)\n",
    "plotter.plot_wavefront(scene.ior, None, None)"
   ]
  },
  {
   "cell_type": "markdown",
   "metadata": {},
   "source": [
    "## 2. Perform light simulation"
   ]
  },
  {
   "cell_type": "code",
   "execution_count": null,
   "metadata": {},
   "outputs": [],
   "source": [
    "def get_save_name(attribute: str, config: dict) -> str:\n",
    "    return f\"{attribute}_{config['Name']}_{config['NUM XYZ'][0]}_{config['NUM XYZ'][1]}_{config['NUM XYZ'][2]}\"\n",
    "\n",
    "def check_save_exists(savename: str) -> bool:\n",
    "    \n",
    "    return False"
   ]
  },
  {
   "cell_type": "code",
   "execution_count": null,
   "metadata": {},
   "outputs": [],
   "source": [
    "scene.irradiance, scene.local_diretion = get_irrad_loc_dir(scene, SCENE_CFG, plotter=plotter,\n",
    "                                                           num_show_images=3)\n"
   ]
  },
  {
   "cell_type": "code",
   "execution_count": null,
   "metadata": {},
   "outputs": [],
   "source": [
    "# plotter.plot_irradiance_grid(scene.irradiance)\n",
    "# plotter.plot_irradiance_slices(scene.irradiance, num_slices=4, z_start=30, z_end=100)\n",
    "# plotter.plot_local_direction_grid_slices(scene.local_diretion[:, floor_height:, :], num_slices=4, z_start=30, z_end=100)"
   ]
  },
  {
   "cell_type": "markdown",
   "metadata": {},
   "source": [
    "## 3. Ray marching render"
   ]
  },
  {
   "cell_type": "code",
   "execution_count": null,
   "metadata": {},
   "outputs": [],
   "source": [
    "# res = scene.offline_render([np.array([3.0, 3.0, 0.0])])\n",
    "# import matplotlib.pyplot as plt\n",
    "# plt.clf()\n",
    "# plt.imshow(res[0])\n",
    "# plt.show()"
   ]
  },
  {
   "cell_type": "code",
   "execution_count": null,
   "metadata": {},
   "outputs": [],
   "source": [
    "scene.rt_render(True)"
   ]
  },
  {
   "cell_type": "markdown",
   "metadata": {},
   "source": [
    "## 4. Different data structures to store or fit irradiance"
   ]
  },
  {
   "cell_type": "code",
   "execution_count": null,
   "metadata": {},
   "outputs": [],
   "source": [
    "from data.siren import SirenFitter, siren_post_process\n",
    "from data.mlp import MLP, mlp_post_process\n",
    "from data.octree import Octree, octree_post_process"
   ]
  },
  {
   "cell_type": "code",
   "execution_count": null,
   "metadata": {},
   "outputs": [],
   "source": [
    "octree = Octree(threshold=14)\n",
    "octree.construct(scene.irradiance)\n",
    "print(f\"Number of nodes: {len(octree)}\")\n",
    "print(f\"Octree Memory usage: {octree.__sizeof__()} bytes\")\n",
    "print(f\"In comparison, NumPy Storage Usage: {scene.irradiance.nbytes} bytes\")\n",
    "octree.visualize(plotter, num_slices=4, z_start=30, z_end=100)"
   ]
  },
  {
   "cell_type": "code",
   "execution_count": null,
   "metadata": {},
   "outputs": [],
   "source": [
    "\n",
    "octree_res = octree.init_empty_grid()\n",
    "octree.fill_grid(octree.root, octree_res, 0, 0, 0, octree.grid_size)\n",
    "plotter.plot_irradiance_slices(octree_res, threshold=3, num_slices=4, z_start=30, z_end=100)\n",
    "corrected_octree_res = octree_post_process(octree_res)\n",
    "plotter.plot_irradiance_slices(corrected_octree_res, threshold=3, num_slices=4, z_start=30, z_end=100)"
   ]
  },
  {
   "cell_type": "code",
   "execution_count": null,
   "metadata": {},
   "outputs": [],
   "source": [
    "assert corrected_octree_res.shape == scene.irradiance.shape, \"The shape of the corrected octree result should be the same as the original irradiance grid\"\n",
    "scene.irradiance = corrected_octree_res\n",
    "scene.rt_render()"
   ]
  },
  {
   "cell_type": "code",
   "execution_count": null,
   "metadata": {},
   "outputs": [],
   "source": [
    "\n",
    "x, y, z = 60, 60, 60\n",
    "value = octree.query(x, y, z)\n",
    "value"
   ]
  },
  {
   "cell_type": "markdown",
   "metadata": {},
   "source": [
    "### 4.1 SIREN to fit irradiance"
   ]
  },
  {
   "cell_type": "code",
   "execution_count": null,
   "metadata": {},
   "outputs": [],
   "source": [
    "siren_fitter= SirenFitter(scene.irradiance, floor_height, sampler_multiplier,\n",
    "                     hidden_features=256, hidden_layers=3, omega=24)\n",
    "siren_fitter.fit(total_epochs=24, batch_size=20000, lr=5e-4)"
   ]
  },
  {
   "cell_type": "code",
   "execution_count": null,
   "metadata": {},
   "outputs": [],
   "source": [
    "siren_res = siren_fitter.infer()\n",
    "plotter.plot_irradiance_slices(siren_res, threshold=3, num_slices=4, z_start=30, z_end=100)\n",
    "siren_res.shape"
   ]
  },
  {
   "cell_type": "code",
   "execution_count": null,
   "metadata": {},
   "outputs": [],
   "source": [
    "corrected_siren_res = siren_post_process(siren_res, gamma=0.2)\n",
    "plotter.plot_irradiance_slices(corrected_siren_res, threshold=3, num_slices=4, z_start=30, z_end=100)"
   ]
  },
  {
   "cell_type": "code",
   "execution_count": null,
   "metadata": {},
   "outputs": [],
   "source": [
    "assert corrected_siren_res.shape == scene.irradiance.shape, \"The shape of the corrected siren result should be the same as the original irradiance grid\"\n",
    "scene.irradiance = corrected_siren_res\n",
    "scene.rt_render()"
   ]
  },
  {
   "cell_type": "markdown",
   "metadata": {},
   "source": [
    "### 4.2 MLP to fit irradiance"
   ]
  },
  {
   "cell_type": "code",
   "execution_count": null,
   "metadata": {},
   "outputs": [],
   "source": [
    "mlp = MLP(scene.irradiance, floor_height, NUM_XYZ, sampler_multiplier, num_epoches=150)"
   ]
  },
  {
   "cell_type": "code",
   "execution_count": null,
   "metadata": {},
   "outputs": [],
   "source": [
    "# Visualize the predicted irradiance field\n",
    "mlp_predicted_irradiance = mlp.predict(pad=True)\n",
    "plotter.plot_irradiance_slices(mlp_predicted_irradiance, threshold=3, \n",
    "                               num_slices=4, z_start=30, z_end=100)"
   ]
  },
  {
   "cell_type": "code",
   "execution_count": null,
   "metadata": {},
   "outputs": [],
   "source": [
    "corrected_mlp_res = mlp_post_process(mlp_predicted_irradiance, None)\n",
    "plotter.plot_irradiance_slices(corrected_mlp_res, threshold=3, num_slices=4, z_start=30, z_end=100)"
   ]
  },
  {
   "cell_type": "code",
   "execution_count": null,
   "metadata": {},
   "outputs": [],
   "source": [
    "assert corrected_mlp_res.shape == scene.irradiance.shape, \"The shape of the corrected mlp result should be the same as the original irradiance grid\"\n",
    "scene.irradiance = corrected_mlp_res\n",
    "scene.rt_render()"
   ]
  },
  {
   "cell_type": "markdown",
   "metadata": {},
   "source": [
    "### 4.3 Octree to store irradiance"
   ]
  },
  {
   "cell_type": "code",
   "execution_count": null,
   "metadata": {},
   "outputs": [],
   "source": []
  }
 ],
 "metadata": {
  "kernelspec": {
   "display_name": "cg",
   "language": "python",
   "name": "python3"
  },
  "language_info": {
   "codemirror_mode": {
    "name": "ipython",
    "version": 3
   },
   "file_extension": ".py",
   "mimetype": "text/x-python",
   "name": "python",
   "nbconvert_exporter": "python",
   "pygments_lexer": "ipython3",
   "version": "3.11.9"
  }
 },
 "nbformat": 4,
 "nbformat_minor": 2
}
