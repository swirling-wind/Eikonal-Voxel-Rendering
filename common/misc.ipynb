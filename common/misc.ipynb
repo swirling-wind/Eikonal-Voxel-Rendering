{
 "cells": [
  {
   "cell_type": "code",
   "execution_count": 8,
   "metadata": {},
   "outputs": [
    {
     "name": "stdout",
     "output_type": "stream",
     "text": [
      "c:\\Users\\yaozi\\Desktop\\Voxel-Render\\images\\Light_wooden_frame_room_2k.hdr\\bunny\n",
      "Siren_0.png\n",
      "Siren_1.png\n",
      "Siren_2.png\n",
      "grad_diff_Siren_0.png\n",
      "grad_diff_Siren_1.png\n",
      "grad_diff_Siren_2.png\n",
      "num_diff_Siren_0.png\n",
      "num_diff_Siren_1.png\n",
      "num_diff_Siren_2.png\n",
      "reflect-Siren_0.png\n",
      "reflect-Siren_1.png\n",
      "reflect-Siren_2.png\n",
      "scatter-Siren_0.png\n",
      "scatter-Siren_1.png\n",
      "scatter-Siren_2.png\n"
     ]
    }
   ],
   "source": [
    "# 获取./images/Light_wooden_frame_room_2k.hdr\\bunny下的所有文件名\n",
    "\n",
    "import os\n",
    "import sys \n",
    "\n",
    "def get_all_files_names(path) ->list[str]:\n",
    "    files = os.listdir(path)\n",
    "    return files\n",
    "\n",
    "target_path = os.path.join(os.getcwd(), 'images', 'Light_wooden_frame_room_2k.hdr', 'bunny')\n",
    "print(target_path)\n",
    "files = get_all_files_names(target_path)\n",
    "files.sort()\n",
    "for name in files:\n",
    "    # name contains\n",
    "    if \"Siren\" in name:\n",
    "        print(name)\n"
   ]
  }
 ],
 "metadata": {
  "kernelspec": {
   "display_name": "cg",
   "language": "python",
   "name": "python3"
  },
  "language_info": {
   "codemirror_mode": {
    "name": "ipython",
    "version": 3
   },
   "file_extension": ".py",
   "mimetype": "text/x-python",
   "name": "python",
   "nbconvert_exporter": "python",
   "pygments_lexer": "ipython3",
   "version": "3.11.9"
  }
 },
 "nbformat": 4,
 "nbformat_minor": 2
}
