{
 "cells": [
  {
   "cell_type": "code",
   "execution_count": null,
   "metadata": {},
   "outputs": [],
   "source": [
    "import numpy as np\n",
    "import matplotlib.pyplot as plt\n",
    "import matplotlib.patches as patches\n",
    "import sys\n",
    "import os\n",
    "\n",
    "from scipy.ndimage import gaussian_filter\n",
    "import scipy.ndimage as ndimage\n",
    "\n",
    "from wavefront2d.initialize import *\n",
    "from wavefront2d.visualize import *\n",
    "from wavefront2d.patch import *\n",
    "from wavefront2d.point import *\n",
    "\n",
    "%load_ext autoreload\n",
    "%autoreload 2"
   ]
  },
  {
   "cell_type": "markdown",
   "metadata": {},
   "source": [
    "## 1. Create 2D IOR field\n",
    "Input is an image where grey values map to IORs."
   ]
  },
  {
   "cell_type": "code",
   "execution_count": null,
   "metadata": {},
   "outputs": [],
   "source": [
    "field_size = 128\n",
    "\n",
    "linear_ior_field = get_ior_field(\"linear\")\n",
    "board_ior_field = get_ior_field(\"board\")\n",
    "convex_ior_field = get_ior_field(\"convex\")\n",
    "concave_ior_field = get_ior_field(\"concave\")\n",
    "slope_ior_field = get_ior_field(\"slope\")\n",
    "steep_slope_ior_field = get_ior_field(\"steep_slope\")\n",
    "\n",
    "visualize_ior_fields([linear_ior_field, board_ior_field, convex_ior_field, concave_ior_field, slope_ior_field, steep_slope_ior_field],\n",
    "                      [\"linear\", \"board\", \"convex\", \"concave\", \"slope\", \"steep_slope\"])"
   ]
  },
  {
   "cell_type": "code",
   "execution_count": null,
   "metadata": {},
   "outputs": [],
   "source": [
    "grad_x, grad_y = compute_gradients(concave_ior_field)\n",
    "visualize_gradients(grad_x, grad_y)"
   ]
  },
  {
   "cell_type": "markdown",
   "metadata": {},
   "source": [
    "## 2. Adaptive wavefront propagation"
   ]
  },
  {
   "cell_type": "code",
   "execution_count": null,
   "metadata": {},
   "outputs": [],
   "source": [
    "# Initialize wavefront using Points\n",
    "initial_wavefront_positions = [(0, i) for i in range(field_size)]  # initial positions are on the left edge\n",
    "initial_wavefront_directions = [(1, 0) for _ in range(field_size)]  # initial directions are all to the right\n",
    "\n",
    "# Initialize wavefront using Patches\n",
    "initial_wavefront_patches = init_wavefront_patches(initial_wavefront_positions, initial_wavefront_directions)\n",
    "\n",
    "num_steps = int(field_size * 3)\n",
    "delta_t = 0.6\n",
    "num_show_images = 3\n",
    "\n",
    "ior_field_dict = {\n",
    "    'linear': {'ior': linear_ior_field, 'pos': [], 'dir': [], 'patches_list': [], 'irradiance': None, 'dir_vec': None, 'simp_irradiance': None},\n",
    "    'board': {'ior': board_ior_field, 'pos': [], 'dir': [], 'patches_list': [], 'irradiance': None, 'dir_vec': None, 'simp_irradiance': None},\n",
    "    'convex_lens': {'ior': convex_ior_field, 'pos': [], 'dir': [], 'patches_list': [], 'irradiance': None, 'dir_vec': None, 'simp_irradiance': None},\n",
    "    'concave_lens': {'ior': concave_ior_field, 'pos': [], 'dir': [], 'patches_list': [], 'irradiance': None, 'dir_vec': None, 'simp_irradiance': None},\n",
    "    # 'slope': {'ior': slope_ior_field, 'pos': [], 'dir': [], 'patches_list': [], 'irradiance': None, 'dir_vec': None},\n",
    "    # 'steep_slope': {'ior': steep_slope_ior_field, 'pos': [], 'dir': [], 'patches_list': [], 'irradiance': None, 'dir_vec': None}\n",
    "}"
   ]
  },
  {
   "cell_type": "markdown",
   "metadata": {},
   "source": [
    "### (1) Patch-based wavefront propagation"
   ]
  },
  {
   "cell_type": "code",
   "execution_count": null,
   "metadata": {},
   "outputs": [],
   "source": [
    "for key, value in ior_field_dict.items():\n",
    "    wavefront_patches = simulate_wavefront_propagation_patches(value['ior'], initial_wavefront_patches, num_steps, delta_t)\n",
    "    value['patches_list'] = wavefront_patches\n",
    "    visualize_wavefront_propagation_patches(wavefront_patches, value['ior'], num_show_images)"
   ]
  },
  {
   "cell_type": "markdown",
   "metadata": {},
   "source": [
    "### (2) Point-based wavefront propagation"
   ]
  },
  {
   "cell_type": "code",
   "execution_count": null,
   "metadata": {},
   "outputs": [],
   "source": [
    "for key, value in ior_field_dict.items():\n",
    "    wavefront_pos_list, wavefront_dir_list = simulate_wavefront_propagation_points(value['ior'], initial_wavefront_positions, initial_wavefront_directions, num_steps, delta_t)\n",
    "    value['pos'] = wavefront_pos_list\n",
    "    value['dir'] = wavefront_dir_list\n",
    "    visualize_wavefront_propagation_points(wavefront_pos_list, wavefront_dir_list, value['ior'], num_steps, num_show_images)"
   ]
  },
  {
   "cell_type": "markdown",
   "metadata": {},
   "source": [
    "## 3. Calculate irradiance $\\Delta E_{\\omega}$"
   ]
  },
  {
   "cell_type": "code",
   "execution_count": null,
   "metadata": {},
   "outputs": [],
   "source": [
    "for key, value in ior_field_dict.items():\n",
    "    simple_irradiance = compute_irradiance_points(value['pos'], field_size) #  np.zeros((field_size, field_size)) #  \n",
    "    patch_irradiance = compute_irradiance_patches(value['patches_list'], field_size)\n",
    "    visualize_irradiance(simple_irradiance, patch_irradiance, f'Irradiance for {key} IOR Field')\n",
    "    \n",
    "    value['irradiance'] = patch_irradiance\n",
    "    value['simp_irradiance'] = simple_irradiance"
   ]
  },
  {
   "cell_type": "code",
   "execution_count": null,
   "metadata": {},
   "outputs": [],
   "source": [
    "for key, value in ior_field_dict.items():\n",
    "    \n",
    "    irradiance = value['irradiance']\n",
    "    simple_irradiance = value['simp_irradiance']\n",
    "    \n",
    "    # Gaussian filter the irradiance\n",
    "    filtered_irradiance = ndimage.gaussian_filter(irradiance, sigma=5.0)\n",
    "    # Subsample each irradiance to 256*256 using library function\n",
    "    subsampled_irradiance = ndimage.zoom(filtered_irradiance, 0.5, order=1)\n",
    "\n",
    "    simp_filtered_irradiance = ndimage.gaussian_filter(simple_irradiance, sigma=5.0)\n",
    "    simp_subsampled_irradiance = ndimage.zoom(simp_filtered_irradiance, 0.5, order=1)\n",
    "\n",
    "    visualize_irradiance(simp_subsampled_irradiance, subsampled_irradiance, f'Subsampled Irradiance for {key} IOR Field')"
   ]
  },
  {
   "cell_type": "markdown",
   "metadata": {},
   "source": [
    "## 5. Store irradiance into quad tree"
   ]
  },
  {
   "cell_type": "code",
   "execution_count": null,
   "metadata": {},
   "outputs": [],
   "source": [
    "tester = \"convex_lens\"\n",
    "test_irradiance = ior_field_dict[tester]['irradiance']"
   ]
  },
  {
   "cell_type": "code",
   "execution_count": null,
   "metadata": {},
   "outputs": [],
   "source": [
    "class Node:\n",
    "    def __init__(self, val: int = 0, top_left=None, top_right=None, bottom_left=None, bottom_right=None):\n",
    "        self.val = val\n",
    "        self.top_left = top_left\n",
    "        self.top_right = top_right\n",
    "        self.bottom_left = bottom_left\n",
    "        self.bottom_right = bottom_right\n",
    "    \n",
    "    @property\n",
    "    def is_leaf(self):\n",
    "        return all(child is None for child in (self.top_left, self.top_right, self.bottom_left, self.bottom_right))\n",
    "    \n",
    "    def __repr__(self):\n",
    "        return self._repr_recursive()\n",
    "\n",
    "    def _repr_recursive(self, depth=0, max_depth=2):\n",
    "        indent = \"  \" * depth\n",
    "        if self.is_leaf:\n",
    "            return f\"{indent}Node(val={self.val})\"\n",
    "        else:\n",
    "            if depth >= max_depth:\n",
    "                return f\"{indent}Node(...)\"\n",
    "            children_repr = \",\\n\".join(self._repr_recursive_child(child, depth + 1, max_depth) for child in \n",
    "                                       (self.top_left, self.top_right, self.bottom_left, self.bottom_right))\n",
    "            return f\"{indent}Node(\\n{children_repr})\"\n",
    "\n",
    "    def _repr_recursive_child(self, child, depth, max_depth):\n",
    "        return \"  \" * depth + \"None\" if child is None else child._repr_recursive(depth, max_depth)\n",
    "\n",
    "class QuadTree:\n",
    "    def __init__(self, threshold: int = 0):\n",
    "        self.threshold = threshold\n",
    "        self.grid_size = 0\n",
    "        self.root = None\n",
    "    \n",
    "    def construct(self, grid: np.ndarray) -> None:\n",
    "        self.root = self._build_tree(grid, 0, 0, grid.shape[0])\n",
    "        self.grid_size = grid.shape[0]\n",
    "    \n",
    "    def _build_tree(self, grid: np.ndarray, i: int, j: int, size: int) -> Node:\n",
    "        if self._is_homogeneous(grid, i, j, size):\n",
    "            return Node(grid[i, j])\n",
    "\n",
    "        half_size = size // 2\n",
    "        top_left = self._build_tree(grid, i, j, half_size)\n",
    "        top_right = self._build_tree(grid, i, j + half_size, half_size)\n",
    "        bottom_left = self._build_tree(grid, i + half_size, j, half_size)\n",
    "        bottom_right = self._build_tree(grid, i + half_size, j + half_size, half_size)\n",
    "        \n",
    "        if top_left.is_leaf and top_right.is_leaf and bottom_left.is_leaf and bottom_right.is_leaf:\n",
    "            values = {node.val for node in (top_left, top_right, bottom_left, bottom_right)}\n",
    "            if len(values) == 1:\n",
    "                return Node(values.pop())\n",
    "        \n",
    "        return Node(top_left=top_left, top_right=top_right, bottom_left=bottom_left, bottom_right=bottom_right)\n",
    "    \n",
    "    def _is_homogeneous(self, grid: np.ndarray, i: int, j: int, size: int) -> bool:\n",
    "        return np.ptp(grid[i:i+size, j:j+size]) <= self.threshold\n",
    "\n",
    "    def query(self, x: int, y: int) -> int:\n",
    "        return self._query(self.root, 0, 0, self.grid_size, x, y)\n",
    "\n",
    "    def _query(self, node: Node | None, i: int, j: int, size: int, x: int, y: int) -> int:\n",
    "        if node is None:\n",
    "            raise ValueError(\"QuadTree is empty. Maybe you forgot to construct it?\")\n",
    "        \n",
    "        if node.is_leaf:\n",
    "            return node.val\n",
    "\n",
    "        half_size = size // 2\n",
    "        if x < i + half_size:\n",
    "            if y < j + half_size:\n",
    "                return self._query(node.bottom_left, i, j, half_size, x, y)\n",
    "            else:\n",
    "                return self._query(node.top_left, i, j + half_size, half_size, x, y)\n",
    "        else:\n",
    "            if y < j + half_size:\n",
    "                return self._query(node.bottom_right, i + half_size, j, half_size, x, y)\n",
    "            else:\n",
    "                return self._query(node.top_right, i + half_size, j + half_size, half_size, x, y)\n",
    "    \n",
    "    def __len__(self):\n",
    "        return self._count_nodes(self.root)\n",
    "    \n",
    "    def _count_nodes(self, node: Node | None) -> int:\n",
    "        if node is None:\n",
    "            return 0\n",
    "        return 1 + sum(self._count_nodes(child) for child in \n",
    "                       (node.top_left, node.top_right, node.bottom_left, node.bottom_right))\n",
    "    \n",
    "    def __sizeof__(self):\n",
    "        return self._calculate_memory_usage(self.root)\n",
    "    \n",
    "    def _calculate_memory_usage(self, node: Node | None) -> int:\n",
    "        if node is None:\n",
    "            return 0\n",
    "        return sys.getsizeof(node) + sum(self._calculate_memory_usage(child) for child in \n",
    "                                         (node.top_left, node.top_right, node.bottom_left, node.bottom_right))\n",
    "    \n",
    "    def visualize(self, figsize=(20, 20)):\n",
    "        plt.figure(figsize=figsize)\n",
    "        self._visualize_node(self.root, 0, 0, self.grid_size)\n",
    "        plt.axis('equal')\n",
    "        plt.xlabel('x')\n",
    "        plt.ylabel('y')\n",
    "        plt.tight_layout()\n",
    "        plt.title('Quad Tree Visualization')\n",
    "        plt.show()\n",
    "        \n",
    "    def _visualize_node(self, node: Node | None, x: float, y: float, size: float):\n",
    "        if node is None:\n",
    "            return\n",
    "        if node.is_leaf:\n",
    "            rect = patches.Rectangle((x, y), size, size, linewidth=1, edgecolor='black', facecolor='none')\n",
    "            plt.gca().add_patch(rect)\n",
    "            plt.text(x + size / 2, y + size / 2, str(int(node.val)), ha='center', va='center', fontsize=8)\n",
    "        else:\n",
    "            half_size = size / 2\n",
    "            self._visualize_node(node.top_left, x, y + half_size, half_size)\n",
    "            self._visualize_node(node.top_right, x + half_size, y + half_size, half_size)\n",
    "            self._visualize_node(node.bottom_left, x, y, half_size)\n",
    "            self._visualize_node(node.bottom_right, x + half_size, y, half_size)\n",
    "\n",
    "\n",
    "\n",
    "quad_tree = QuadTree(threshold=4) \n",
    "quad_tree.construct(test_irradiance)\n",
    "\n",
    "value = quad_tree.query(60, 60)\n",
    "print(f\"Query value at (0, 99): {value}\")\n",
    "\n",
    "node_count = len(quad_tree)\n",
    "print(f\"Number of nodes: {node_count}\")\n",
    "\n",
    "memory_usage = sys.getsizeof(quad_tree)\n",
    "print(f\"Memory Usage: {memory_usage} bytes\")\n",
    "print(f\"In comparison, NumPy Storage Usage: {test_irradiance.nbytes} bytes\")\n",
    "\n",
    "quad_tree.visualize()"
   ]
  },
  {
   "cell_type": "code",
   "execution_count": null,
   "metadata": {},
   "outputs": [],
   "source": [
    "# plt show test_irradiance and write its each element specific int value\n",
    "plt.figure(figsize=(20, 20))\n",
    "plt.imshow(test_irradiance, cmap='hot', interpolation='nearest')\n",
    "for i in range(test_irradiance.shape[0]):\n",
    "    for j in range(test_irradiance.shape[1]):\n",
    "        plt.text(j, i, str(int(test_irradiance[i, j])), ha='center', va='center', color='black', fontsize=7)\n",
    "plt.colorbar(label='Irradiance')\n",
    "plt.title('Test Irradiance')\n",
    "plt.show()"
   ]
  }
 ],
 "metadata": {
  "kernelspec": {
   "display_name": "base",
   "language": "python",
   "name": "python3"
  },
  "language_info": {
   "codemirror_mode": {
    "name": "ipython",
    "version": 3
   },
   "file_extension": ".py",
   "mimetype": "text/x-python",
   "name": "python",
   "nbconvert_exporter": "python",
   "pygments_lexer": "ipython3",
   "version": "3.11.9"
  }
 },
 "nbformat": 4,
 "nbformat_minor": 2
}
